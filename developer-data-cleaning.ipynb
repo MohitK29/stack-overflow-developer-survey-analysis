{
 "cells": [
  {
   "cell_type": "code",
   "execution_count": 14,
   "metadata": {},
   "outputs": [],
   "source": [
    "# importing packages\n",
    "import numpy as np\n",
    "import pandas as pd\n",
    "from sklearn.preprocessing import LabelEncoder,OneHotEncoder,OrdinalEncoder,StandardScaler\n",
    "from collections import defaultdict\n",
    "labelEncoder_dict = defaultdict(LabelEncoder)\n",
    "\n",
    "# from sklearn.preprocessing import StandardScaler"
   ]
  },
  {
   "cell_type": "code",
   "execution_count": 15,
   "metadata": {},
   "outputs": [
    {
     "name": "stderr",
     "output_type": "stream",
     "text": [
      "/opt/homebrew/Caskroom/miniforge/base/envs/stack-overflow-developer-survey-analysis/lib/python3.9/site-packages/IPython/core/interactiveshell.py:3444: DtypeWarning: Columns (8,12,13,14,15,16,50,51,52,53,55,56,57,58,59,60,61,62,63,64,65,66,67,68,69,70,71,72,73,74,75,76,77,78,79,80,81,82,83,84,85,93,94,95,96,97,98,99,100,101,102,103,104,105,106,107,108,109,110,111,112,113,114,115,116,117,118,119,120,121,122,123,124,125,126,127,128) have mixed types.Specify dtype option on import or set low_memory=False.\n",
      "  exec(code_obj, self.user_global_ns, self.user_ns)\n"
     ]
    }
   ],
   "source": [
    "# Loading file data\n",
    "df = pd.read_csv(\"stackoverflow_data.csv\")\n",
    "X = pd.DataFrame()"
   ]
  },
  {
   "cell_type": "markdown",
   "metadata": {},
   "source": [
    "## Data Cleaning"
   ]
  },
  {
   "cell_type": "code",
   "execution_count": 16,
   "metadata": {},
   "outputs": [],
   "source": [
    "X['OpenSource'] = df['OpenSource'].eq('Yes').mul(1)\n",
    "X['Hobby'] = df['Hobby'].eq('Yes').mul(1)\n",
    "X['Student'] = df['Student'].str.contains('Yes').mul(1)\n"
   ]
  },
  {
   "cell_type": "code",
   "execution_count": 17,
   "metadata": {},
   "outputs": [],
   "source": [
    "\n",
    "# Categorical Encoding Columns\n",
    "# CategoricalColumns = ['Country','Employment',,'UndergradMajor',]\n",
    "# for col in CategoricalColumns:\n",
    "#     X[col] = labelEncoder_dict[col].fit_transform(df[col])"
   ]
  },
  {
   "cell_type": "code",
   "execution_count": 18,
   "metadata": {},
   "outputs": [],
   "source": [
    "# YearsCoding\n",
    "YearCodingMap = {\n",
    "    '3-5 years':4,\n",
    "    '30 or more years':30, \n",
    "    '24-26 years':25, \n",
    "    '18-20 years':19,\n",
    "    '6-8 years':7, \n",
    "    '9-11 years':10, \n",
    "    '0-2 years':1,\n",
    "    '15-17 years':16,\n",
    "    '12-14 years':13, \n",
    "    '21-23 years':22, \n",
    "    '27-29 years':28,\n",
    "}\n",
    "X['YearsCoding'] = df['YearsCoding'].replace(YearCodingMap)\n",
    "X['YearsCoding'].fillna(X['YearsCoding'].mean(),inplace=True)"
   ]
  },
  {
   "cell_type": "code",
   "execution_count": 19,
   "metadata": {},
   "outputs": [],
   "source": [
    "companySizeMap = {\n",
    "    '20 to 99 employees':60,\n",
    "    '10,000 or more employees':10000,\n",
    "    '100 to 499 employees':300, \n",
    "    '10 to 19 employees':15,\n",
    "    '500 to 999 employees':750, \n",
    "    '1,000 to 4,999 employees':3000,\n",
    "    '5,000 to 9,999 employees':7500, \n",
    "    'Fewer than 10 employees':10\n",
    "}\n",
    "X['CompanySize'] = df['CompanySize'].replace(companySizeMap)\n",
    "X.dropna(subset=[\"CompanySize\"],inplace=True) #Droping NaN values"
   ]
  },
  {
   "cell_type": "code",
   "execution_count": 20,
   "metadata": {},
   "outputs": [
    {
     "data": {
      "text/html": [
       "<div>\n",
       "<style scoped>\n",
       "    .dataframe tbody tr th:only-of-type {\n",
       "        vertical-align: middle;\n",
       "    }\n",
       "\n",
       "    .dataframe tbody tr th {\n",
       "        vertical-align: top;\n",
       "    }\n",
       "\n",
       "    .dataframe thead th {\n",
       "        text-align: right;\n",
       "    }\n",
       "</style>\n",
       "<table border=\"1\" class=\"dataframe\">\n",
       "  <thead>\n",
       "    <tr style=\"text-align: right;\">\n",
       "      <th></th>\n",
       "      <th>OpenSource</th>\n",
       "      <th>Hobby</th>\n",
       "      <th>Student</th>\n",
       "      <th>YearsCoding</th>\n",
       "      <th>CompanySize</th>\n",
       "      <th>Bachelor’s degree (BA, BS, B.Eng., etc.)</th>\n",
       "      <th>Master’s degree (MA, MS, M.Eng., MBA, etc.)</th>\n",
       "      <th>Other doctoral degree (Ph.D, Ed.D., etc.)</th>\n",
       "      <th>Professional degree (JD, MD, etc.)</th>\n",
       "    </tr>\n",
       "  </thead>\n",
       "  <tbody>\n",
       "    <tr>\n",
       "      <th>0</th>\n",
       "      <td>0</td>\n",
       "      <td>1</td>\n",
       "      <td>0</td>\n",
       "      <td>4.0</td>\n",
       "      <td>60.0</td>\n",
       "      <td>1</td>\n",
       "      <td>0</td>\n",
       "      <td>0</td>\n",
       "      <td>0</td>\n",
       "    </tr>\n",
       "    <tr>\n",
       "      <th>1</th>\n",
       "      <td>1</td>\n",
       "      <td>1</td>\n",
       "      <td>0</td>\n",
       "      <td>30.0</td>\n",
       "      <td>10000.0</td>\n",
       "      <td>1</td>\n",
       "      <td>0</td>\n",
       "      <td>0</td>\n",
       "      <td>0</td>\n",
       "    </tr>\n",
       "    <tr>\n",
       "      <th>2</th>\n",
       "      <td>1</td>\n",
       "      <td>1</td>\n",
       "      <td>0</td>\n",
       "      <td>25.0</td>\n",
       "      <td>60.0</td>\n",
       "      <td>0</td>\n",
       "      <td>0</td>\n",
       "      <td>0</td>\n",
       "      <td>0</td>\n",
       "    </tr>\n",
       "    <tr>\n",
       "      <th>3</th>\n",
       "      <td>0</td>\n",
       "      <td>0</td>\n",
       "      <td>0</td>\n",
       "      <td>19.0</td>\n",
       "      <td>300.0</td>\n",
       "      <td>1</td>\n",
       "      <td>0</td>\n",
       "      <td>0</td>\n",
       "      <td>0</td>\n",
       "    </tr>\n",
       "    <tr>\n",
       "      <th>4</th>\n",
       "      <td>0</td>\n",
       "      <td>1</td>\n",
       "      <td>1</td>\n",
       "      <td>7.0</td>\n",
       "      <td>10000.0</td>\n",
       "      <td>0</td>\n",
       "      <td>0</td>\n",
       "      <td>0</td>\n",
       "      <td>0</td>\n",
       "    </tr>\n",
       "    <tr>\n",
       "      <th>...</th>\n",
       "      <td>...</td>\n",
       "      <td>...</td>\n",
       "      <td>...</td>\n",
       "      <td>...</td>\n",
       "      <td>...</td>\n",
       "      <td>...</td>\n",
       "      <td>...</td>\n",
       "      <td>...</td>\n",
       "      <td>...</td>\n",
       "    </tr>\n",
       "    <tr>\n",
       "      <th>71526</th>\n",
       "      <td>0</td>\n",
       "      <td>1</td>\n",
       "      <td>0</td>\n",
       "      <td>7.0</td>\n",
       "      <td>10.0</td>\n",
       "      <td>0</td>\n",
       "      <td>0</td>\n",
       "      <td>0</td>\n",
       "      <td>0</td>\n",
       "    </tr>\n",
       "    <tr>\n",
       "      <th>71527</th>\n",
       "      <td>0</td>\n",
       "      <td>1</td>\n",
       "      <td>1</td>\n",
       "      <td>4.0</td>\n",
       "      <td>750.0</td>\n",
       "      <td>1</td>\n",
       "      <td>0</td>\n",
       "      <td>0</td>\n",
       "      <td>0</td>\n",
       "    </tr>\n",
       "    <tr>\n",
       "      <th>71528</th>\n",
       "      <td>0</td>\n",
       "      <td>1</td>\n",
       "      <td>0</td>\n",
       "      <td>10.0</td>\n",
       "      <td>10.0</td>\n",
       "      <td>1</td>\n",
       "      <td>0</td>\n",
       "      <td>0</td>\n",
       "      <td>0</td>\n",
       "    </tr>\n",
       "    <tr>\n",
       "      <th>71529</th>\n",
       "      <td>1</td>\n",
       "      <td>1</td>\n",
       "      <td>0</td>\n",
       "      <td>7.0</td>\n",
       "      <td>10000.0</td>\n",
       "      <td>1</td>\n",
       "      <td>0</td>\n",
       "      <td>0</td>\n",
       "      <td>0</td>\n",
       "    </tr>\n",
       "    <tr>\n",
       "      <th>71530</th>\n",
       "      <td>0</td>\n",
       "      <td>1</td>\n",
       "      <td>0</td>\n",
       "      <td>16.0</td>\n",
       "      <td>10000.0</td>\n",
       "      <td>0</td>\n",
       "      <td>1</td>\n",
       "      <td>0</td>\n",
       "      <td>0</td>\n",
       "    </tr>\n",
       "  </tbody>\n",
       "</table>\n",
       "<p>71531 rows × 9 columns</p>\n",
       "</div>"
      ],
      "text/plain": [
       "       OpenSource  Hobby Student  YearsCoding  CompanySize  \\\n",
       "0               0      1       0          4.0         60.0   \n",
       "1               1      1       0         30.0      10000.0   \n",
       "2               1      1       0         25.0         60.0   \n",
       "3               0      0       0         19.0        300.0   \n",
       "4               0      1       1          7.0      10000.0   \n",
       "...           ...    ...     ...          ...          ...   \n",
       "71526           0      1       0          7.0         10.0   \n",
       "71527           0      1       1          4.0        750.0   \n",
       "71528           0      1       0         10.0         10.0   \n",
       "71529           1      1       0          7.0      10000.0   \n",
       "71530           0      1       0         16.0      10000.0   \n",
       "\n",
       "       Bachelor’s degree (BA, BS, B.Eng., etc.)  \\\n",
       "0                                             1   \n",
       "1                                             1   \n",
       "2                                             0   \n",
       "3                                             1   \n",
       "4                                             0   \n",
       "...                                         ...   \n",
       "71526                                         0   \n",
       "71527                                         1   \n",
       "71528                                         1   \n",
       "71529                                         1   \n",
       "71530                                         0   \n",
       "\n",
       "       Master’s degree (MA, MS, M.Eng., MBA, etc.)  \\\n",
       "0                                                0   \n",
       "1                                                0   \n",
       "2                                                0   \n",
       "3                                                0   \n",
       "4                                                0   \n",
       "...                                            ...   \n",
       "71526                                            0   \n",
       "71527                                            0   \n",
       "71528                                            0   \n",
       "71529                                            0   \n",
       "71530                                            1   \n",
       "\n",
       "       Other doctoral degree (Ph.D, Ed.D., etc.)  \\\n",
       "0                                              0   \n",
       "1                                              0   \n",
       "2                                              0   \n",
       "3                                              0   \n",
       "4                                              0   \n",
       "...                                          ...   \n",
       "71526                                          0   \n",
       "71527                                          0   \n",
       "71528                                          0   \n",
       "71529                                          0   \n",
       "71530                                          0   \n",
       "\n",
       "       Professional degree (JD, MD, etc.)  \n",
       "0                                       0  \n",
       "1                                       0  \n",
       "2                                       0  \n",
       "3                                       0  \n",
       "4                                       0  \n",
       "...                                   ...  \n",
       "71526                                   0  \n",
       "71527                                   0  \n",
       "71528                                   0  \n",
       "71529                                   0  \n",
       "71530                                   0  \n",
       "\n",
       "[71531 rows x 9 columns]"
      ]
     },
     "execution_count": 20,
     "metadata": {},
     "output_type": "execute_result"
    }
   ],
   "source": [
    "# Formal Education\n",
    "dummy1 = pd.get_dummies(df['FormalEducation'], drop_first=True) \n",
    "dummy1.drop(['I never completed any formal education','Primary/elementary school','Secondary school (e.g. American high school, German Realschule or Gymnasium, etc.)','Some college/university study without earning a degree'],axis=1,inplace=True)\n",
    "X.join(dummy1)"
   ]
  },
  {
   "cell_type": "code",
   "execution_count": 21,
   "metadata": {},
   "outputs": [
    {
     "data": {
      "text/plain": [
       "array(['Employed part-time', 'Employed full-time',\n",
       "       'Independent contractor, freelancer, or self-employed',\n",
       "       'Not employed, and not looking for work',\n",
       "       'Not employed, but looking for work', nan, 'Retired'], dtype=object)"
      ]
     },
     "execution_count": 21,
     "metadata": {},
     "output_type": "execute_result"
    }
   ],
   "source": [
    "employedMap = {\n",
    "    'Employed part-time':1, \n",
    "    'Employed full-time':1,\n",
    "    'Independent contractor, freelancer, or self-employed':1,\n",
    "    'Not employed, and not looking for work':0,\n",
    "    'Not employed, but looking for work':0,\n",
    "    'Retired':0\n",
    "}\n",
    "df['Employment'].unique()"
   ]
  },
  {
   "cell_type": "code",
   "execution_count": 22,
   "metadata": {},
   "outputs": [],
   "source": [
    "# AssessJob and Benefits Added\n",
    "df.fillna(df.iloc[:,17:38].mean(),inplace=True)\n",
    "for col in df.iloc[:,17:38].columns:\n",
    "    X[col] = df[col]\n",
    "\n"
   ]
  },
  {
   "cell_type": "code",
   "execution_count": 23,
   "metadata": {},
   "outputs": [
    {
     "data": {
      "text/plain": [
       "array(['Extremely satisfied', 'Moderately dissatisfied',\n",
       "       'Moderately satisfied', 'Neither satisfied nor dissatisfied',\n",
       "       'Slightly satisfied', nan, 'Slightly dissatisfied',\n",
       "       'Extremely dissatisfied'], dtype=object)"
      ]
     },
     "execution_count": 23,
     "metadata": {},
     "output_type": "execute_result"
    }
   ],
   "source": [
    "df['JobSatisfaction'].unique()"
   ]
  },
  {
   "cell_type": "code",
   "execution_count": 24,
   "metadata": {},
   "outputs": [],
   "source": [
    "# JobSatisfaction Mapping\n",
    "SatisfactionMapping = {\n",
    "    'Extremely satisfied':6,\n",
    "    'Moderately satisfied':5, \n",
    "    'Slightly satisfied':4,\n",
    "    'Neither satisfied nor dissatisfied':3,\n",
    "    'Moderately dissatisfied':2,\n",
    "    'Slightly dissatisfied':1,\n",
    "    'Extremely dissatisfied':0\n",
    "}\n",
    "\n",
    "df['JobSatisfaction'].replace(SatisfactionMapping,inplace=True)\n",
    "df.fillna({'JobSatisfaction':3},inplace=True)\n",
    "X['JobSatisfaction'] = df['JobSatisfaction']\n",
    "\n",
    "# CareerSatisfaction\n",
    "df['CareerSatisfaction'].replace(SatisfactionMapping,inplace=True)\n",
    "df.fillna({'CareerSatisfaction':3},inplace=True)\n",
    "X['CareerSatisfaction'] = df['CareerSatisfaction']\n",
    "\n"
   ]
  },
  {
   "cell_type": "code",
   "execution_count": 25,
   "metadata": {},
   "outputs": [],
   "source": [
    "# HackathonReasons\n",
    "X['HackathonParticipated'] = df['HackathonReasons'].notna()*1\n",
    "\n",
    "# ConvertedSalary\n",
    "X['ConvertedSalary'] = df['ConvertedSalary']\n",
    "X.dropna(subset=[\"ConvertedSalary\"],inplace=True) #Droping NaN values\n"
   ]
  },
  {
   "cell_type": "markdown",
   "metadata": {},
   "source": [
    "### One Hot Encoding"
   ]
  },
  {
   "cell_type": "code",
   "execution_count": 26,
   "metadata": {},
   "outputs": [],
   "source": [
    "def CustomOneHotEncoding(data,X):\n",
    "    temp = data.str.split(';', expand=True)\n",
    "    new_columns = pd.unique(temp.values.ravel())\n",
    "    for col in new_columns:\n",
    "        X[col] = data.str.contains(col, regex=False).fillna(False)*1"
   ]
  },
  {
   "cell_type": "code",
   "execution_count": 27,
   "metadata": {},
   "outputs": [
    {
     "name": "stderr",
     "output_type": "stream",
     "text": [
      "/var/folders/3h/smy7r7qj3wlgbhwx0plqyrph0000gn/T/ipykernel_82953/3727580376.py:5: PerformanceWarning: DataFrame is highly fragmented.  This is usually the result of calling `frame.insert` many times, which has poor performance.  Consider joining all columns at once using pd.concat(axis=1) instead.  To get a de-fragmented frame, use `newframe = frame.copy()`\n",
      "  X[col] = data.str.contains(col, regex=False).fillna(False)*1\n"
     ]
    }
   ],
   "source": [
    "# LanguageWorkedWith\n",
    "CustomOneHotEncoding(df['LanguageWorkedWith'],X)\n",
    "\n",
    "\n",
    "CustomOneHotEncoding(df['DevType'],X)\n",
    "\n",
    "CustomOneHotEncoding(df['DatabaseWorkedWith'],X)\n",
    "\n",
    "CustomOneHotEncoding(df['PlatformWorkedWith'],X)\n",
    "\n",
    "CustomOneHotEncoding(df['FrameworkWorkedWith'],X)\n",
    "\n",
    "CustomOneHotEncoding(df['IDE'],X)\n",
    "\n",
    "# Methodology\n",
    "CustomOneHotEncoding(df['Methodology'],X)\n",
    "\n",
    "# RaceEthnicity\n",
    "CustomOneHotEncoding(df['RaceEthnicity'],X)\n",
    "\n",
    "# CustomOneHotEncoding(df['Methodology'],X)\n"
   ]
  },
  {
   "cell_type": "code",
   "execution_count": 28,
   "metadata": {},
   "outputs": [
    {
     "name": "stderr",
     "output_type": "stream",
     "text": [
      "/var/folders/3h/smy7r7qj3wlgbhwx0plqyrph0000gn/T/ipykernel_82953/746842630.py:11: PerformanceWarning: DataFrame is highly fragmented.  This is usually the result of calling `frame.insert` many times, which has poor performance.  Consider joining all columns at once using pd.concat(axis=1) instead.  To get a de-fragmented frame, use `newframe = frame.copy()`\n",
      "  X['CheckInCode'] = df['CheckInCode'].replace(CheckInCodeMapping)\n"
     ]
    }
   ],
   "source": [
    "# CheckInCode\n",
    "CheckInCodeMapping = {\n",
    "    'Multiple times per day':730, \n",
    "    'A few times per week':156, \n",
    "    'Weekly or a few times per month':52, \n",
    "    'Never':0,\n",
    "    'Less than once per month':12, \n",
    "    'Once a day':365\n",
    "}\n",
    "\n",
    "X['CheckInCode'] = df['CheckInCode'].replace(CheckInCodeMapping)\n",
    "X['CheckInCode'].fillna(X['CheckInCode'].mean(),inplace=True)"
   ]
  },
  {
   "cell_type": "code",
   "execution_count": 29,
   "metadata": {},
   "outputs": [
    {
     "name": "stderr",
     "output_type": "stream",
     "text": [
      "/var/folders/3h/smy7r7qj3wlgbhwx0plqyrph0000gn/T/ipykernel_82953/1484029417.py:10: PerformanceWarning: DataFrame is highly fragmented.  This is usually the result of calling `frame.insert` many times, which has poor performance.  Consider joining all columns at once using pd.concat(axis=1) instead.  To get a de-fragmented frame, use `newframe = frame.copy()`\n",
      "  X['Age'] = df['Age'].replace(AgeMapping)\n"
     ]
    }
   ],
   "source": [
    "AgeMapping = {\n",
    "    '25 - 34 years old':29.5, \n",
    "    '35 - 44 years old':39.5, \n",
    "    '18 - 24 years old':21,\n",
    "    '45 - 54 years old':49.5, \n",
    "    '55 - 64 years old':59.5, \n",
    "    'Under 18 years old':18,\n",
    "    '65 years or older':65\n",
    "}\n",
    "X['Age'] = df['Age'].replace(AgeMapping)\n",
    "X.dropna(subset=[\"Age\"],inplace=True) #Droping NaN values\n",
    "\n",
    "X['MilitaryUS'] = (df['MilitaryUS']=='Yes')*1\n",
    "X['Dependents'] = (df['Dependents']=='Yes')*1\n",
    "X['Gender'] = (df['Gender']=='Female')*1\n"
   ]
  },
  {
   "cell_type": "code",
   "execution_count": 30,
   "metadata": {},
   "outputs": [],
   "source": [
    "# Exercise\n",
    "ExerciseFreqMap = {\n",
    "    '3 - 4 times per week':((3+4)/2)*52,\n",
    "    'Daily or almost every day':365, \n",
    "    \"I don't typically exercise\":0, \n",
    "    '1 - 2 times per week':52\n",
    "}\n",
    "X['Exercise'] = df['Exercise'].replace(ExerciseFreqMap)\n",
    "X['Exercise'].fillna(X['Exercise'].mean(),inplace=True)\n",
    "\n",
    "# HoursCompMap\n",
    "HoursCompMap = {\n",
    "    '9 - 12 hours':10.5, \n",
    "    '5 - 8 hours':6.5, \n",
    "    'Over 12 hours':12, \n",
    "    '1 - 4 hours':2.5,\n",
    "    'Less than 1 hour':1\n",
    "}\n",
    "X['HoursComputer'] = df['HoursComputer'].replace(HoursCompMap)\n",
    "X['HoursComputer'].fillna(X['HoursComputer'].mean(),inplace=True)\n"
   ]
  },
  {
   "cell_type": "code",
   "execution_count": 31,
   "metadata": {},
   "outputs": [],
   "source": [
    "# HypotheticalTools1-5\n",
    "HypoToolMap = {\n",
    "    'Extremely interested':5, \n",
    "    'Very interested':4, \n",
    "    'Somewhat interested':3, \n",
    "    'A little bit interested':2,\n",
    "    'Not at all interested':1\n",
    "}\n",
    "hypotheticalToolsList = ['HypotheticalTools1','HypotheticalTools2','HypotheticalTools3','HypotheticalTools4','HypotheticalTools5']\n",
    "for col in hypotheticalToolsList:\n",
    "    X[col] = df[col].replace(HypoToolMap)\n",
    "    X[col].fillna(X[col].median(),inplace=True)\n"
   ]
  },
  {
   "cell_type": "code",
   "execution_count": 32,
   "metadata": {},
   "outputs": [],
   "source": [
    "# EducationParents -> Higher Educated Parents\n",
    "EducatedParentsMap = {\n",
    "    \"Bachelor’s degree (BA, BS, B.Eng., etc.)\":1,\n",
    "    'Some college/university study without earning a degree':0,\n",
    "    'Secondary school (e.g. American high school, German Realschule or Gymnasium, etc.)':0,\n",
    "    \"Master’s degree (MA, MS, M.Eng., MBA, etc.)\":1,\n",
    "    'Primary/elementary school':0, \n",
    "    'Associate degree':1,\n",
    "    'They never completed any formal education':0,\n",
    "    'Other doctoral degree (Ph.D, Ed.D., etc.)':1,\n",
    "    'Professional degree (JD, MD, etc.)':1\n",
    "}\n",
    "X['ParentsWithHighEducation'] = df['EducationParents'].replace(EducatedParentsMap)\n",
    "X.dropna(subset=[\"ParentsWithHighEducation\"],inplace=True) #Droping NaN values\n"
   ]
  },
  {
   "cell_type": "code",
   "execution_count": null,
   "metadata": {},
   "outputs": [],
   "source": []
  },
  {
   "cell_type": "markdown",
   "metadata": {},
   "source": [
    "## Modeling and Predictions\n",
    "### Using Regression"
   ]
  },
  {
   "cell_type": "code",
   "execution_count": 33,
   "metadata": {},
   "outputs": [],
   "source": [
    "# loading additional packages\n",
    "from sklearn.model_selection import train_test_split\n",
    "from sklearn import linear_model\n",
    "from sklearn.metrics import mean_squared_error,accuracy_score"
   ]
  },
  {
   "cell_type": "code",
   "execution_count": 37,
   "metadata": {},
   "outputs": [
    {
     "name": "stderr",
     "output_type": "stream",
     "text": [
      "/opt/homebrew/Caskroom/miniforge/base/envs/stack-overflow-developer-survey-analysis/lib/python3.9/site-packages/sklearn/utils/validation.py:1675: FutureWarning: Feature names only support names that are all strings. Got feature names with dtypes: ['NoneType', 'float', 'str']. An error will be raised in 1.2.\n",
      "  warnings.warn(\n",
      "/opt/homebrew/Caskroom/miniforge/base/envs/stack-overflow-developer-survey-analysis/lib/python3.9/site-packages/sklearn/utils/validation.py:1675: FutureWarning: Feature names only support names that are all strings. Got feature names with dtypes: ['NoneType', 'float', 'str']. An error will be raised in 1.2.\n",
      "  warnings.warn(\n"
     ]
    }
   ],
   "source": [
    "# Partitioning data into test and train \n",
    "Y_columns = ['ConvertedSalary']\n",
    "\n",
    "df_Y = X[Y_columns]\n",
    "df_X = X.loc[:, ~X.columns.isin(Y_columns)]\n",
    "sc=StandardScaler()\n",
    "sc.fit(df_X)\n",
    "df_X=sc.transform(df_X)\n",
    "df_X_train, df_X_test, df_Y_train, df_Y_test = train_test_split(df_X,df_Y,test_size=0.2, shuffle=True, random_state=1)\n"
   ]
  },
  {
   "cell_type": "code",
   "execution_count": 38,
   "metadata": {},
   "outputs": [
    {
     "name": "stdout",
     "output_type": "stream",
     "text": [
      "training error 39385604208.61572\n",
      "testing error 42492439729.67723\n"
     ]
    }
   ],
   "source": [
    "# Linear Regression\n",
    "reg = linear_model.LinearRegression()\n",
    "reg.fit(df_X_train,df_Y_train)\n",
    "df_Y_test_pred = reg.predict(df_X_test)\n",
    "df_Y_train_pred = reg.predict(df_X_train)\n",
    "\n",
    "# i) training error\n",
    "print(\"training error\", mean_squared_error(df_Y_train, df_Y_train_pred))\n",
    "# iI) testing error\n",
    "print(\"testing error\", mean_squared_error(df_Y_test, df_Y_test_pred))\n"
   ]
  },
  {
   "cell_type": "code",
   "execution_count": null,
   "metadata": {},
   "outputs": [],
   "source": [
    "# Ridge regression with hyperparamter values alpha from [0.0, 1e-8, 1e-5, 0.1, 1, 10]\n",
    "alphas = [0.0, 1e-8, 1e-5, 0.1, 1, 10]\n",
    "alphaErrMap = {}\n",
    "for alpha in alphas:\n",
    "    reg = linear_model.Ridge(alpha=alpha)\n",
    "    reg.fit(df_X_train,df_Y_train)\n",
    "    df_Y_test_pred = reg.predict(df_X_test)\n",
    "    df_Y_train_pred = reg.predict(df_X_train)\n",
    "    training_error = mean_squared_error(df_Y_train, df_Y_train_pred)\n",
    "    testing_error = mean_squared_error(df_Y_test, df_Y_test_pred)\n",
    "    # i) training error\n",
    "    print(\"training error\",alpha, training_error)\n",
    "    # iI) testing error\n",
    "    print(\"testing error\",alpha, testing_error)\n",
    "    alphaErrMap[alpha] = testing_error\n",
    "\n",
    "optimal_alpha = min(alphaErrMap, key=alphaErrMap.get)\n",
    "print(\"optimal_alpha\",optimal_alpha)"
   ]
  },
  {
   "cell_type": "code",
   "execution_count": null,
   "metadata": {},
   "outputs": [],
   "source": [
    "# Ridge regression with hyperparamter values alpha from [0.0, 1e-8, 1e-5, 0.1, 1, 10]\n",
    "alphas = [0.0, 1e-8, 1e-5, 0.1, 1, 10]\n",
    "alphaErrMap = {}\n",
    "for alpha in alphas:\n",
    "    reg = linear_model.Lasso(alpha=alpha)\n",
    "    reg.fit(df_X_train,df_Y_train)\n",
    "    df_Y_test_pred = reg.predict(df_X_test)\n",
    "    df_Y_train_pred = reg.predict(df_X_train)\n",
    "    training_error = mean_squared_error(df_Y_train, df_Y_train_pred)\n",
    "    testing_error = mean_squared_error(df_Y_test, df_Y_test_pred)\n",
    "    # i) training error\n",
    "    print(\"training error\",alpha, training_error)\n",
    "    # iI) testing error\n",
    "    print(\"testing error\",alpha, testing_error)\n",
    "    alphaErrMap[alpha] = testing_error\n",
    "\n",
    "optimal_alpha = min(alphaErrMap, key=alphaErrMap.get)\n",
    "print(\"optimal_alpha\",optimal_alpha)"
   ]
  }
 ],
 "metadata": {
  "interpreter": {
   "hash": "a465ead146c7be66e42e5a8abc5d9f0082f30bd5da6dd2b967cc9e57a14159a0"
  },
  "kernelspec": {
   "display_name": "Python 3.9.7 64-bit ('stack-overflow-developer-survey-analysis': conda)",
   "language": "python",
   "name": "python3"
  },
  "language_info": {
   "codemirror_mode": {
    "name": "ipython",
    "version": 3
   },
   "file_extension": ".py",
   "mimetype": "text/x-python",
   "name": "python",
   "nbconvert_exporter": "python",
   "pygments_lexer": "ipython3",
   "version": "3.9.7"
  },
  "orig_nbformat": 4
 },
 "nbformat": 4,
 "nbformat_minor": 2
}
