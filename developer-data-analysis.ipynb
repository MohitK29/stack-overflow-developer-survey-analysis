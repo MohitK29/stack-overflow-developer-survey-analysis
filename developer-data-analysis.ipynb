{
 "cells": [
  {
   "cell_type": "code",
   "execution_count": 2,
   "metadata": {},
   "outputs": [],
   "source": [
    "# importing packages\n",
    "import numpy as np\n",
    "import pandas as pd\n",
    "from sklearn.preprocessing import LabelEncoder,OneHotEncoder,OrdinalEncoder,StandardScaler\n",
    "from collections import defaultdict\n",
    "labelEncoder_dict = defaultdict(LabelEncoder)\n",
    "from scipy import stats \n",
    "from sklearn.model_selection import train_test_split\n",
    "from sklearn.preprocessing import StandardScaler\n",
    "from sklearn.model_selection import GridSearchCV\n",
    "from sklearn.pipeline import Pipeline\n",
    "from sklearn.linear_model import Ridge\n",
    "from sklearn.linear_model import Lasso\n",
    "from sklearn.pipeline import make_pipeline\n",
    "from sklearn.metrics import mean_squared_error\n",
    "from sklearn import svm"
   ]
  },
  {
   "cell_type": "markdown",
   "metadata": {},
   "source": [
    "## Data Cleaning"
   ]
  },
  {
   "cell_type": "code",
   "execution_count": 109,
   "metadata": {},
   "outputs": [
    {
     "name": "stderr",
     "output_type": "stream",
     "text": [
      "C:\\Users\\mohit\\anaconda3\\lib\\site-packages\\IPython\\core\\interactiveshell.py:3165: DtypeWarning: Columns (8,12,13,14,15,16,50,51,52,53,55,56,57,58,59,60,61,62,63,64,65,66,67,68,69,70,71,72,73,74,75,76,77,78,79,80,81,82,83,84,85,93,94,95,96,97,98,99,100,101,102,103,104,105,106,107,108,109,110,111,112,113,114,115,116,117,118,119,120,121,122,123,124,125,126,127,128) have mixed types.Specify dtype option on import or set low_memory=False.\n",
      "  has_raised = await self.run_ast_nodes(code_ast.body, cell_name,\n"
     ]
    }
   ],
   "source": [
    "# Loading file data\n",
    "df = pd.read_csv(\"stackoverflow_data.csv\")\n",
    "X = pd.DataFrame()"
   ]
  },
  {
   "cell_type": "code",
   "execution_count": 110,
   "metadata": {},
   "outputs": [],
   "source": [
    "X['OpenSource'] = df['OpenSource'].eq('Yes').mul(1)\n",
    "X['Hobby'] = df['Hobby'].eq('Yes').mul(1)\n",
    "X['Student'] = df['Student'].str.contains('Yes').mul(1)"
   ]
  },
  {
   "cell_type": "code",
   "execution_count": 111,
   "metadata": {},
   "outputs": [],
   "source": [
    "# YearsCoding\n",
    "YearCodingMap = {\n",
    "    '3-5 years':4,\n",
    "    '30 or more years':30, \n",
    "    '24-26 years':25, \n",
    "    '18-20 years':19,\n",
    "    '6-8 years':7, \n",
    "    '9-11 years':10, \n",
    "    '0-2 years':1,\n",
    "    '15-17 years':16,\n",
    "    '12-14 years':13, \n",
    "    '21-23 years':22, \n",
    "    '27-29 years':28,\n",
    "}\n",
    "X['YearsCoding'] = df['YearsCoding'].replace(YearCodingMap)\n",
    "X['YearsCoding'].fillna(X['YearsCoding'].mean(),inplace=True)"
   ]
  },
  {
   "cell_type": "code",
   "execution_count": 112,
   "metadata": {},
   "outputs": [],
   "source": [
    "companySizeMap = {\n",
    "    '20 to 99 employees':60,\n",
    "    '10,000 or more employees':10000,\n",
    "    '100 to 499 employees':300, \n",
    "    '10 to 19 employees':15,\n",
    "    '500 to 999 employees':750, \n",
    "    '1,000 to 4,999 employees':3000,\n",
    "    '5,000 to 9,999 employees':7500, \n",
    "    'Fewer than 10 employees':10\n",
    "}\n",
    "X['CompanySize'] = df['CompanySize'].replace(companySizeMap)\n",
    "X.dropna(subset=[\"CompanySize\"],inplace=True) #Droping NaN values"
   ]
  },
  {
   "cell_type": "code",
   "execution_count": 113,
   "metadata": {},
   "outputs": [
    {
     "data": {
      "text/html": [
       "<div>\n",
       "<style scoped>\n",
       "    .dataframe tbody tr th:only-of-type {\n",
       "        vertical-align: middle;\n",
       "    }\n",
       "\n",
       "    .dataframe tbody tr th {\n",
       "        vertical-align: top;\n",
       "    }\n",
       "\n",
       "    .dataframe thead th {\n",
       "        text-align: right;\n",
       "    }\n",
       "</style>\n",
       "<table border=\"1\" class=\"dataframe\">\n",
       "  <thead>\n",
       "    <tr style=\"text-align: right;\">\n",
       "      <th></th>\n",
       "      <th>OpenSource</th>\n",
       "      <th>Hobby</th>\n",
       "      <th>Student</th>\n",
       "      <th>YearsCoding</th>\n",
       "      <th>CompanySize</th>\n",
       "      <th>Bachelor’s degree (BA, BS, B.Eng., etc.)</th>\n",
       "      <th>Master’s degree (MA, MS, M.Eng., MBA, etc.)</th>\n",
       "      <th>Other doctoral degree (Ph.D, Ed.D., etc.)</th>\n",
       "      <th>Professional degree (JD, MD, etc.)</th>\n",
       "    </tr>\n",
       "  </thead>\n",
       "  <tbody>\n",
       "    <tr>\n",
       "      <th>0</th>\n",
       "      <td>0</td>\n",
       "      <td>1</td>\n",
       "      <td>0</td>\n",
       "      <td>4.0</td>\n",
       "      <td>60.0</td>\n",
       "      <td>1</td>\n",
       "      <td>0</td>\n",
       "      <td>0</td>\n",
       "      <td>0</td>\n",
       "    </tr>\n",
       "    <tr>\n",
       "      <th>1</th>\n",
       "      <td>1</td>\n",
       "      <td>1</td>\n",
       "      <td>0</td>\n",
       "      <td>30.0</td>\n",
       "      <td>10000.0</td>\n",
       "      <td>1</td>\n",
       "      <td>0</td>\n",
       "      <td>0</td>\n",
       "      <td>0</td>\n",
       "    </tr>\n",
       "    <tr>\n",
       "      <th>2</th>\n",
       "      <td>1</td>\n",
       "      <td>1</td>\n",
       "      <td>0</td>\n",
       "      <td>25.0</td>\n",
       "      <td>60.0</td>\n",
       "      <td>0</td>\n",
       "      <td>0</td>\n",
       "      <td>0</td>\n",
       "      <td>0</td>\n",
       "    </tr>\n",
       "    <tr>\n",
       "      <th>3</th>\n",
       "      <td>0</td>\n",
       "      <td>0</td>\n",
       "      <td>0</td>\n",
       "      <td>19.0</td>\n",
       "      <td>300.0</td>\n",
       "      <td>1</td>\n",
       "      <td>0</td>\n",
       "      <td>0</td>\n",
       "      <td>0</td>\n",
       "    </tr>\n",
       "    <tr>\n",
       "      <th>4</th>\n",
       "      <td>0</td>\n",
       "      <td>1</td>\n",
       "      <td>1</td>\n",
       "      <td>7.0</td>\n",
       "      <td>10000.0</td>\n",
       "      <td>0</td>\n",
       "      <td>0</td>\n",
       "      <td>0</td>\n",
       "      <td>0</td>\n",
       "    </tr>\n",
       "    <tr>\n",
       "      <th>...</th>\n",
       "      <td>...</td>\n",
       "      <td>...</td>\n",
       "      <td>...</td>\n",
       "      <td>...</td>\n",
       "      <td>...</td>\n",
       "      <td>...</td>\n",
       "      <td>...</td>\n",
       "      <td>...</td>\n",
       "      <td>...</td>\n",
       "    </tr>\n",
       "    <tr>\n",
       "      <th>71526</th>\n",
       "      <td>0</td>\n",
       "      <td>1</td>\n",
       "      <td>0</td>\n",
       "      <td>7.0</td>\n",
       "      <td>10.0</td>\n",
       "      <td>0</td>\n",
       "      <td>0</td>\n",
       "      <td>0</td>\n",
       "      <td>0</td>\n",
       "    </tr>\n",
       "    <tr>\n",
       "      <th>71527</th>\n",
       "      <td>0</td>\n",
       "      <td>1</td>\n",
       "      <td>1</td>\n",
       "      <td>4.0</td>\n",
       "      <td>750.0</td>\n",
       "      <td>1</td>\n",
       "      <td>0</td>\n",
       "      <td>0</td>\n",
       "      <td>0</td>\n",
       "    </tr>\n",
       "    <tr>\n",
       "      <th>71528</th>\n",
       "      <td>0</td>\n",
       "      <td>1</td>\n",
       "      <td>0</td>\n",
       "      <td>10.0</td>\n",
       "      <td>10.0</td>\n",
       "      <td>1</td>\n",
       "      <td>0</td>\n",
       "      <td>0</td>\n",
       "      <td>0</td>\n",
       "    </tr>\n",
       "    <tr>\n",
       "      <th>71529</th>\n",
       "      <td>1</td>\n",
       "      <td>1</td>\n",
       "      <td>0</td>\n",
       "      <td>7.0</td>\n",
       "      <td>10000.0</td>\n",
       "      <td>1</td>\n",
       "      <td>0</td>\n",
       "      <td>0</td>\n",
       "      <td>0</td>\n",
       "    </tr>\n",
       "    <tr>\n",
       "      <th>71530</th>\n",
       "      <td>0</td>\n",
       "      <td>1</td>\n",
       "      <td>0</td>\n",
       "      <td>16.0</td>\n",
       "      <td>10000.0</td>\n",
       "      <td>0</td>\n",
       "      <td>1</td>\n",
       "      <td>0</td>\n",
       "      <td>0</td>\n",
       "    </tr>\n",
       "  </tbody>\n",
       "</table>\n",
       "<p>71531 rows × 9 columns</p>\n",
       "</div>"
      ],
      "text/plain": [
       "       OpenSource  Hobby Student  YearsCoding  CompanySize  \\\n",
       "0               0      1       0          4.0         60.0   \n",
       "1               1      1       0         30.0      10000.0   \n",
       "2               1      1       0         25.0         60.0   \n",
       "3               0      0       0         19.0        300.0   \n",
       "4               0      1       1          7.0      10000.0   \n",
       "...           ...    ...     ...          ...          ...   \n",
       "71526           0      1       0          7.0         10.0   \n",
       "71527           0      1       1          4.0        750.0   \n",
       "71528           0      1       0         10.0         10.0   \n",
       "71529           1      1       0          7.0      10000.0   \n",
       "71530           0      1       0         16.0      10000.0   \n",
       "\n",
       "       Bachelor’s degree (BA, BS, B.Eng., etc.)  \\\n",
       "0                                             1   \n",
       "1                                             1   \n",
       "2                                             0   \n",
       "3                                             1   \n",
       "4                                             0   \n",
       "...                                         ...   \n",
       "71526                                         0   \n",
       "71527                                         1   \n",
       "71528                                         1   \n",
       "71529                                         1   \n",
       "71530                                         0   \n",
       "\n",
       "       Master’s degree (MA, MS, M.Eng., MBA, etc.)  \\\n",
       "0                                                0   \n",
       "1                                                0   \n",
       "2                                                0   \n",
       "3                                                0   \n",
       "4                                                0   \n",
       "...                                            ...   \n",
       "71526                                            0   \n",
       "71527                                            0   \n",
       "71528                                            0   \n",
       "71529                                            0   \n",
       "71530                                            1   \n",
       "\n",
       "       Other doctoral degree (Ph.D, Ed.D., etc.)  \\\n",
       "0                                              0   \n",
       "1                                              0   \n",
       "2                                              0   \n",
       "3                                              0   \n",
       "4                                              0   \n",
       "...                                          ...   \n",
       "71526                                          0   \n",
       "71527                                          0   \n",
       "71528                                          0   \n",
       "71529                                          0   \n",
       "71530                                          0   \n",
       "\n",
       "       Professional degree (JD, MD, etc.)  \n",
       "0                                       0  \n",
       "1                                       0  \n",
       "2                                       0  \n",
       "3                                       0  \n",
       "4                                       0  \n",
       "...                                   ...  \n",
       "71526                                   0  \n",
       "71527                                   0  \n",
       "71528                                   0  \n",
       "71529                                   0  \n",
       "71530                                   0  \n",
       "\n",
       "[71531 rows x 9 columns]"
      ]
     },
     "execution_count": 113,
     "metadata": {},
     "output_type": "execute_result"
    }
   ],
   "source": [
    "# Formal Education\n",
    "dummy1 = pd.get_dummies(df['FormalEducation'], drop_first=True) \n",
    "dummy1.drop(['I never completed any formal education','Primary/elementary school','Secondary school (e.g. American high school, German Realschule or Gymnasium, etc.)','Some college/university study without earning a degree'],axis=1,inplace=True)\n",
    "X.join(dummy1)"
   ]
  },
  {
   "cell_type": "code",
   "execution_count": 114,
   "metadata": {},
   "outputs": [],
   "source": [
    "# AssessJob and Benefits Added\n",
    "df.fillna(df.iloc[:,17:38].mean(),inplace=True)\n",
    "for col in df.iloc[:,17:38].columns:\n",
    "    X[col] = df[col]\n",
    "\n"
   ]
  },
  {
   "cell_type": "code",
   "execution_count": 115,
   "metadata": {},
   "outputs": [],
   "source": [
    "# JobSatisfaction Mapping\n",
    "SatisfactionMapping = {\n",
    "    'Extremely satisfied':6,\n",
    "    'Moderately satisfied':5, \n",
    "    'Slightly satisfied':4,\n",
    "    'Neither satisfied nor dissatisfied':3,\n",
    "    'Moderately dissatisfied':2,\n",
    "    'Slightly dissatisfied':1,\n",
    "    'Extremely dissatisfied':0\n",
    "}\n",
    "\n",
    "df['JobSatisfaction'].replace(SatisfactionMapping,inplace=True)\n",
    "df.fillna({'JobSatisfaction':3},inplace=True)\n",
    "X['JobSatisfaction'] = df['JobSatisfaction']\n",
    "\n",
    "# CareerSatisfaction\n",
    "df['CareerSatisfaction'].replace(SatisfactionMapping,inplace=True)\n",
    "df.fillna({'CareerSatisfaction':3},inplace=True)\n",
    "X['CareerSatisfaction'] = df['CareerSatisfaction']\n",
    "\n"
   ]
  },
  {
   "cell_type": "code",
   "execution_count": 116,
   "metadata": {},
   "outputs": [],
   "source": [
    "# HackathonReasons\n",
    "X['HackathonParticipated'] = df['HackathonReasons'].notna()*1\n",
    "\n",
    "# ConvertedSalary\n",
    "X['ConvertedSalary'] = df['ConvertedSalary']\n",
    "X.dropna(subset=[\"ConvertedSalary\"],inplace=True) #Droping NaN values\n"
   ]
  },
  {
   "cell_type": "markdown",
   "metadata": {},
   "source": [
    "### One Hot Encoding"
   ]
  },
  {
   "cell_type": "code",
   "execution_count": 117,
   "metadata": {},
   "outputs": [],
   "source": [
    "def CustomOneHotEncoding(data,X):\n",
    "    temp = data.str.split(';', expand=True)\n",
    "    new_columns = pd.unique(temp.values.ravel())\n",
    "    for col in new_columns:\n",
    "        X[col] = data.str.contains(col, regex=False).fillna(False)*1"
   ]
  },
  {
   "cell_type": "code",
   "execution_count": 118,
   "metadata": {},
   "outputs": [],
   "source": [
    "# LanguageWorkedWith\n",
    "CustomOneHotEncoding(df['LanguageWorkedWith'],X)\n",
    "\n",
    "\n",
    "CustomOneHotEncoding(df['DevType'],X)\n",
    "\n",
    "CustomOneHotEncoding(df['DatabaseWorkedWith'],X)\n",
    "\n",
    "CustomOneHotEncoding(df['PlatformWorkedWith'],X)\n",
    "\n",
    "CustomOneHotEncoding(df['FrameworkWorkedWith'],X)\n",
    "\n",
    "CustomOneHotEncoding(df['IDE'],X)\n",
    "\n",
    "# Methodology\n",
    "CustomOneHotEncoding(df['Methodology'],X)\n",
    "\n",
    "# RaceEthnicity\n",
    "CustomOneHotEncoding(df['RaceEthnicity'],X)\n",
    "\n",
    "# CustomOneHotEncoding(df['Methodology'],X)\n"
   ]
  },
  {
   "cell_type": "code",
   "execution_count": 119,
   "metadata": {},
   "outputs": [],
   "source": [
    "# CheckInCode\n",
    "CheckInCodeMapping = {\n",
    "    'Multiple times per day':730, \n",
    "    'A few times per week':156, \n",
    "    'Weekly or a few times per month':52, \n",
    "    'Never':0,\n",
    "    'Less than once per month':12, \n",
    "    'Once a day':365\n",
    "}\n",
    "\n",
    "X['CheckInCode'] = df['CheckInCode'].replace(CheckInCodeMapping)\n",
    "X['CheckInCode'].fillna(X['CheckInCode'].mean(),inplace=True)"
   ]
  },
  {
   "cell_type": "code",
   "execution_count": 120,
   "metadata": {},
   "outputs": [],
   "source": [
    "AgeMapping = {\n",
    "    '25 - 34 years old':29.5, \n",
    "    '35 - 44 years old':39.5, \n",
    "    '18 - 24 years old':21,\n",
    "    '45 - 54 years old':49.5, \n",
    "    '55 - 64 years old':59.5, \n",
    "    'Under 18 years old':18,\n",
    "    '65 years or older':65\n",
    "}\n",
    "X['Age'] = df['Age'].replace(AgeMapping)\n",
    "X.dropna(subset=[\"Age\"],inplace=True) #Droping NaN values\n",
    "\n",
    "X['MilitaryUS'] = (df['MilitaryUS']=='Yes')*1\n",
    "X['Dependents'] = (df['Dependents']=='Yes')*1\n",
    "X['Gender'] = (df['Gender']=='Female')*1\n"
   ]
  },
  {
   "cell_type": "code",
   "execution_count": 121,
   "metadata": {},
   "outputs": [],
   "source": [
    "# Exercise\n",
    "ExerciseFreqMap = {\n",
    "    '3 - 4 times per week':((3+4)/2)*52,\n",
    "    'Daily or almost every day':365, \n",
    "    \"I don't typically exercise\":0, \n",
    "    '1 - 2 times per week':52\n",
    "}\n",
    "X['Exercise'] = df['Exercise'].replace(ExerciseFreqMap)\n",
    "X['Exercise'].fillna(X['Exercise'].mean(),inplace=True)\n",
    "\n",
    "# HoursCompMap\n",
    "HoursCompMap = {\n",
    "    '9 - 12 hours':10.5, \n",
    "    '5 - 8 hours':6.5, \n",
    "    'Over 12 hours':12, \n",
    "    '1 - 4 hours':2.5,\n",
    "    'Less than 1 hour':1\n",
    "}\n",
    "X['HoursComputer'] = df['HoursComputer'].replace(HoursCompMap)\n",
    "X['HoursComputer'].fillna(X['HoursComputer'].mean(),inplace=True)\n"
   ]
  },
  {
   "cell_type": "code",
   "execution_count": 122,
   "metadata": {},
   "outputs": [],
   "source": [
    "# HypotheticalTools1-5\n",
    "HypoToolMap = {\n",
    "    'Extremely interested':5, \n",
    "    'Very interested':4, \n",
    "    'Somewhat interested':3, \n",
    "    'A little bit interested':2,\n",
    "    'Not at all interested':1\n",
    "}\n",
    "hypotheticalToolsList = ['HypotheticalTools1','HypotheticalTools2','HypotheticalTools3','HypotheticalTools4','HypotheticalTools5']\n",
    "for col in hypotheticalToolsList:\n",
    "    X[col] = df[col].replace(HypoToolMap)\n",
    "    X[col].fillna(X[col].median(),inplace=True)\n"
   ]
  },
  {
   "cell_type": "code",
   "execution_count": 123,
   "metadata": {},
   "outputs": [],
   "source": [
    "# EducationParents -> Higher Educated Parents\n",
    "EducatedParentsMap = {\n",
    "    \"Bachelor’s degree (BA, BS, B.Eng., etc.)\":1,\n",
    "    'Some college/university study without earning a degree':0,\n",
    "    'Secondary school (e.g. American high school, German Realschule or Gymnasium, etc.)':0,\n",
    "    \"Master’s degree (MA, MS, M.Eng., MBA, etc.)\":1,\n",
    "    'Primary/elementary school':0, \n",
    "    'Associate degree':1,\n",
    "    'They never completed any formal education':0,\n",
    "    'Other doctoral degree (Ph.D, Ed.D., etc.)':1,\n",
    "    'Professional degree (JD, MD, etc.)':1\n",
    "}\n",
    "X['ParentsWithHighEducation'] = df['EducationParents'].replace(EducatedParentsMap)\n",
    "X.dropna(subset=[\"ParentsWithHighEducation\"],inplace=True) #Droping NaN values\n"
   ]
  },
  {
   "cell_type": "markdown",
   "metadata": {},
   "source": [
    "# Hypothesis Testing"
   ]
  },
  {
   "cell_type": "code",
   "execution_count": 50,
   "metadata": {},
   "outputs": [
    {
     "data": {
      "image/png": "[encoded data removed]",
      "text/plain": [
       "<Figure size 432x288 with 1 Axes>"
      ]
     },
     "metadata": {
      "needs_background": "light"
     },
     "output_type": "display_data"
    }
   ],
   "source": [
    "#Ads Hypothesis 81-94\n",
    "#dOES PER cOUNTRY Criteria change(skills)\n",
    "#Does college coding affect Salary\n",
    "#Self Taught vs Formal Educated Developer does have Job/Career Satisfaction and more paid?\n",
    "#Does Self Taught vs Formal Educated Developer have inferiority complex\n",
    "\n",
    "df_country= (df.groupby(['Country'])).count()\n",
    "df_country.sort_values(by=['Respondent'], ascending=False, inplace=True)\n",
    "\n",
    "df_country.iloc[0:10, 0].plot.bar()\n",
    "\n",
    "\n",
    "USPeople_df= df[df['Country']== 'United States']\n",
    "IndianPeople_df= df[df['Country']== 'India']\n",
    "USPeople_df=USPeople_df[['Country','JobSatisfaction']]\n",
    "IndianPeople_df=IndianPeople_df[['Country','JobSatisfaction']]\n",
    "#decide hypothesis Akash"
   ]
  },
  {
   "cell_type": "code",
   "execution_count": 51,
   "metadata": {},
   "outputs": [
    {
     "ename": "TypeError",
     "evalue": "'<' not supported between instances of 'float' and 'str'",
     "output_type": "error",
     "traceback": [
      "\u001b[1;31m---------------------------------------------------------------------------\u001b[0m",
      "\u001b[1;31mTypeError\u001b[0m                                 Traceback (most recent call last)",
      "\u001b[1;32m~\\anaconda3\\lib\\site-packages\\numpy\\core\\fromnumeric.py\u001b[0m in \u001b[0;36m_wrapfunc\u001b[1;34m(obj, method, *args, **kwds)\u001b[0m\n\u001b[0;32m     57\u001b[0m     \u001b[1;32mtry\u001b[0m\u001b[1;33m:\u001b[0m\u001b[1;33m\u001b[0m\u001b[1;33m\u001b[0m\u001b[0m\n\u001b[1;32m---> 58\u001b[1;33m         \u001b[1;32mreturn\u001b[0m \u001b[0mbound\u001b[0m\u001b[1;33m(\u001b[0m\u001b[1;33m*\u001b[0m\u001b[0margs\u001b[0m\u001b[1;33m,\u001b[0m \u001b[1;33m**\u001b[0m\u001b[0mkwds\u001b[0m\u001b[1;33m)\u001b[0m\u001b[1;33m\u001b[0m\u001b[1;33m\u001b[0m\u001b[0m\n\u001b[0m\u001b[0;32m     59\u001b[0m     \u001b[1;32mexcept\u001b[0m \u001b[0mTypeError\u001b[0m\u001b[1;33m:\u001b[0m\u001b[1;33m\u001b[0m\u001b[1;33m\u001b[0m\u001b[0m\n",
      "\u001b[1;31mTypeError\u001b[0m: '<' not supported between instances of 'float' and 'str'",
      "\nDuring handling of the above exception, another exception occurred:\n",
      "\u001b[1;31mTypeError\u001b[0m                                 Traceback (most recent call last)",
      "\u001b[1;32m<ipython-input-51-04a4466d0bc1>\u001b[0m in \u001b[0;36m<module>\u001b[1;34m\u001b[0m\n\u001b[0;32m     22\u001b[0m \u001b[0mM2\u001b[0m\u001b[1;33m=\u001b[0m\u001b[0mUSMaleSalaries\u001b[0m\u001b[1;33m.\u001b[0m\u001b[0miloc\u001b[0m\u001b[1;33m[\u001b[0m\u001b[1;36m18\u001b[0m\u001b[1;33m,\u001b[0m\u001b[1;36m1\u001b[0m\u001b[1;33m]\u001b[0m\u001b[1;33m\u001b[0m\u001b[1;33m\u001b[0m\u001b[0m\n\u001b[0;32m     23\u001b[0m \u001b[1;33m\u001b[0m\u001b[0m\n\u001b[1;32m---> 24\u001b[1;33m \u001b[0mu\u001b[0m\u001b[1;33m,\u001b[0m\u001b[0mp1\u001b[0m \u001b[1;33m=\u001b[0m \u001b[0mstats\u001b[0m\u001b[1;33m.\u001b[0m\u001b[0mmannwhitneyu\u001b[0m\u001b[1;33m(\u001b[0m\u001b[0mM1\u001b[0m\u001b[1;33m,\u001b[0m\u001b[0mM2\u001b[0m\u001b[1;33m)\u001b[0m\u001b[1;33m\u001b[0m\u001b[1;33m\u001b[0m\u001b[0m\n\u001b[0m\u001b[0;32m     25\u001b[0m \u001b[0mk\u001b[0m\u001b[1;33m,\u001b[0m\u001b[0mp\u001b[0m\u001b[1;33m=\u001b[0m\u001b[0mstats\u001b[0m\u001b[1;33m.\u001b[0m\u001b[0mkstest\u001b[0m\u001b[1;33m(\u001b[0m\u001b[0mM1\u001b[0m\u001b[1;33m,\u001b[0m\u001b[0mM2\u001b[0m\u001b[1;33m)\u001b[0m\u001b[1;33m\u001b[0m\u001b[1;33m\u001b[0m\u001b[0m\n",
      "\u001b[1;32m~\\anaconda3\\lib\\site-packages\\scipy\\stats\\stats.py\u001b[0m in \u001b[0;36mmannwhitneyu\u001b[1;34m(x, y, use_continuity, alternative)\u001b[0m\n\u001b[0;32m   7149\u001b[0m     \u001b[0mn1\u001b[0m \u001b[1;33m=\u001b[0m \u001b[0mlen\u001b[0m\u001b[1;33m(\u001b[0m\u001b[0mx\u001b[0m\u001b[1;33m)\u001b[0m\u001b[1;33m\u001b[0m\u001b[1;33m\u001b[0m\u001b[0m\n\u001b[0;32m   7150\u001b[0m     \u001b[0mn2\u001b[0m \u001b[1;33m=\u001b[0m \u001b[0mlen\u001b[0m\u001b[1;33m(\u001b[0m\u001b[0my\u001b[0m\u001b[1;33m)\u001b[0m\u001b[1;33m\u001b[0m\u001b[1;33m\u001b[0m\u001b[0m\n\u001b[1;32m-> 7151\u001b[1;33m     \u001b[0mranked\u001b[0m \u001b[1;33m=\u001b[0m \u001b[0mrankdata\u001b[0m\u001b[1;33m(\u001b[0m\u001b[0mnp\u001b[0m\u001b[1;33m.\u001b[0m\u001b[0mconcatenate\u001b[0m\u001b[1;33m(\u001b[0m\u001b[1;33m(\u001b[0m\u001b[0mx\u001b[0m\u001b[1;33m,\u001b[0m \u001b[0my\u001b[0m\u001b[1;33m)\u001b[0m\u001b[1;33m)\u001b[0m\u001b[1;33m)\u001b[0m\u001b[1;33m\u001b[0m\u001b[1;33m\u001b[0m\u001b[0m\n\u001b[0m\u001b[0;32m   7152\u001b[0m     \u001b[0mrankx\u001b[0m \u001b[1;33m=\u001b[0m \u001b[0mranked\u001b[0m\u001b[1;33m[\u001b[0m\u001b[1;36m0\u001b[0m\u001b[1;33m:\u001b[0m\u001b[0mn1\u001b[0m\u001b[1;33m]\u001b[0m  \u001b[1;31m# get the x-ranks\u001b[0m\u001b[1;33m\u001b[0m\u001b[1;33m\u001b[0m\u001b[0m\n\u001b[0;32m   7153\u001b[0m     \u001b[0mu1\u001b[0m \u001b[1;33m=\u001b[0m \u001b[0mn1\u001b[0m\u001b[1;33m*\u001b[0m\u001b[0mn2\u001b[0m \u001b[1;33m+\u001b[0m \u001b[1;33m(\u001b[0m\u001b[0mn1\u001b[0m\u001b[1;33m*\u001b[0m\u001b[1;33m(\u001b[0m\u001b[0mn1\u001b[0m\u001b[1;33m+\u001b[0m\u001b[1;36m1\u001b[0m\u001b[1;33m)\u001b[0m\u001b[1;33m)\u001b[0m\u001b[1;33m/\u001b[0m\u001b[1;36m2.0\u001b[0m \u001b[1;33m-\u001b[0m \u001b[0mnp\u001b[0m\u001b[1;33m.\u001b[0m\u001b[0msum\u001b[0m\u001b[1;33m(\u001b[0m\u001b[0mrankx\u001b[0m\u001b[1;33m,\u001b[0m \u001b[0maxis\u001b[0m\u001b[1;33m=\u001b[0m\u001b[1;36m0\u001b[0m\u001b[1;33m)\u001b[0m  \u001b[1;31m# calc U for x\u001b[0m\u001b[1;33m\u001b[0m\u001b[1;33m\u001b[0m\u001b[0m\n",
      "\u001b[1;32m~\\anaconda3\\lib\\site-packages\\scipy\\stats\\stats.py\u001b[0m in \u001b[0;36mrankdata\u001b[1;34m(a, method, axis)\u001b[0m\n\u001b[0;32m   8170\u001b[0m     \u001b[0marr\u001b[0m \u001b[1;33m=\u001b[0m \u001b[0mnp\u001b[0m\u001b[1;33m.\u001b[0m\u001b[0mravel\u001b[0m\u001b[1;33m(\u001b[0m\u001b[0mnp\u001b[0m\u001b[1;33m.\u001b[0m\u001b[0masarray\u001b[0m\u001b[1;33m(\u001b[0m\u001b[0ma\u001b[0m\u001b[1;33m)\u001b[0m\u001b[1;33m)\u001b[0m\u001b[1;33m\u001b[0m\u001b[1;33m\u001b[0m\u001b[0m\n\u001b[0;32m   8171\u001b[0m     \u001b[0malgo\u001b[0m \u001b[1;33m=\u001b[0m \u001b[1;34m'mergesort'\u001b[0m \u001b[1;32mif\u001b[0m \u001b[0mmethod\u001b[0m \u001b[1;33m==\u001b[0m \u001b[1;34m'ordinal'\u001b[0m \u001b[1;32melse\u001b[0m \u001b[1;34m'quicksort'\u001b[0m\u001b[1;33m\u001b[0m\u001b[1;33m\u001b[0m\u001b[0m\n\u001b[1;32m-> 8172\u001b[1;33m     \u001b[0msorter\u001b[0m \u001b[1;33m=\u001b[0m \u001b[0mnp\u001b[0m\u001b[1;33m.\u001b[0m\u001b[0margsort\u001b[0m\u001b[1;33m(\u001b[0m\u001b[0marr\u001b[0m\u001b[1;33m,\u001b[0m \u001b[0mkind\u001b[0m\u001b[1;33m=\u001b[0m\u001b[0malgo\u001b[0m\u001b[1;33m)\u001b[0m\u001b[1;33m\u001b[0m\u001b[1;33m\u001b[0m\u001b[0m\n\u001b[0m\u001b[0;32m   8173\u001b[0m \u001b[1;33m\u001b[0m\u001b[0m\n\u001b[0;32m   8174\u001b[0m     \u001b[0minv\u001b[0m \u001b[1;33m=\u001b[0m \u001b[0mnp\u001b[0m\u001b[1;33m.\u001b[0m\u001b[0mempty\u001b[0m\u001b[1;33m(\u001b[0m\u001b[0msorter\u001b[0m\u001b[1;33m.\u001b[0m\u001b[0msize\u001b[0m\u001b[1;33m,\u001b[0m \u001b[0mdtype\u001b[0m\u001b[1;33m=\u001b[0m\u001b[0mnp\u001b[0m\u001b[1;33m.\u001b[0m\u001b[0mintp\u001b[0m\u001b[1;33m)\u001b[0m\u001b[1;33m\u001b[0m\u001b[1;33m\u001b[0m\u001b[0m\n",
      "\u001b[1;32m<__array_function__ internals>\u001b[0m in \u001b[0;36margsort\u001b[1;34m(*args, **kwargs)\u001b[0m\n",
      "\u001b[1;32m~\\anaconda3\\lib\\site-packages\\numpy\\core\\fromnumeric.py\u001b[0m in \u001b[0;36margsort\u001b[1;34m(a, axis, kind, order)\u001b[0m\n\u001b[0;32m   1110\u001b[0m \u001b[1;33m\u001b[0m\u001b[0m\n\u001b[0;32m   1111\u001b[0m     \"\"\"\n\u001b[1;32m-> 1112\u001b[1;33m     \u001b[1;32mreturn\u001b[0m \u001b[0m_wrapfunc\u001b[0m\u001b[1;33m(\u001b[0m\u001b[0ma\u001b[0m\u001b[1;33m,\u001b[0m \u001b[1;34m'argsort'\u001b[0m\u001b[1;33m,\u001b[0m \u001b[0maxis\u001b[0m\u001b[1;33m=\u001b[0m\u001b[0maxis\u001b[0m\u001b[1;33m,\u001b[0m \u001b[0mkind\u001b[0m\u001b[1;33m=\u001b[0m\u001b[0mkind\u001b[0m\u001b[1;33m,\u001b[0m \u001b[0morder\u001b[0m\u001b[1;33m=\u001b[0m\u001b[0morder\u001b[0m\u001b[1;33m)\u001b[0m\u001b[1;33m\u001b[0m\u001b[1;33m\u001b[0m\u001b[0m\n\u001b[0m\u001b[0;32m   1113\u001b[0m \u001b[1;33m\u001b[0m\u001b[0m\n\u001b[0;32m   1114\u001b[0m \u001b[1;33m\u001b[0m\u001b[0m\n",
      "\u001b[1;32m~\\anaconda3\\lib\\site-packages\\numpy\\core\\fromnumeric.py\u001b[0m in \u001b[0;36m_wrapfunc\u001b[1;34m(obj, method, *args, **kwds)\u001b[0m\n\u001b[0;32m     65\u001b[0m         \u001b[1;31m# Call _wrapit from within the except clause to ensure a potential\u001b[0m\u001b[1;33m\u001b[0m\u001b[1;33m\u001b[0m\u001b[1;33m\u001b[0m\u001b[0m\n\u001b[0;32m     66\u001b[0m         \u001b[1;31m# exception has a traceback chain.\u001b[0m\u001b[1;33m\u001b[0m\u001b[1;33m\u001b[0m\u001b[1;33m\u001b[0m\u001b[0m\n\u001b[1;32m---> 67\u001b[1;33m         \u001b[1;32mreturn\u001b[0m \u001b[0m_wrapit\u001b[0m\u001b[1;33m(\u001b[0m\u001b[0mobj\u001b[0m\u001b[1;33m,\u001b[0m \u001b[0mmethod\u001b[0m\u001b[1;33m,\u001b[0m \u001b[1;33m*\u001b[0m\u001b[0margs\u001b[0m\u001b[1;33m,\u001b[0m \u001b[1;33m**\u001b[0m\u001b[0mkwds\u001b[0m\u001b[1;33m)\u001b[0m\u001b[1;33m\u001b[0m\u001b[1;33m\u001b[0m\u001b[0m\n\u001b[0m\u001b[0;32m     68\u001b[0m \u001b[1;33m\u001b[0m\u001b[0m\n\u001b[0;32m     69\u001b[0m \u001b[1;33m\u001b[0m\u001b[0m\n",
      "\u001b[1;32m~\\anaconda3\\lib\\site-packages\\numpy\\core\\fromnumeric.py\u001b[0m in \u001b[0;36m_wrapit\u001b[1;34m(obj, method, *args, **kwds)\u001b[0m\n\u001b[0;32m     42\u001b[0m     \u001b[1;32mexcept\u001b[0m \u001b[0mAttributeError\u001b[0m\u001b[1;33m:\u001b[0m\u001b[1;33m\u001b[0m\u001b[1;33m\u001b[0m\u001b[0m\n\u001b[0;32m     43\u001b[0m         \u001b[0mwrap\u001b[0m \u001b[1;33m=\u001b[0m \u001b[1;32mNone\u001b[0m\u001b[1;33m\u001b[0m\u001b[1;33m\u001b[0m\u001b[0m\n\u001b[1;32m---> 44\u001b[1;33m     \u001b[0mresult\u001b[0m \u001b[1;33m=\u001b[0m \u001b[0mgetattr\u001b[0m\u001b[1;33m(\u001b[0m\u001b[0masarray\u001b[0m\u001b[1;33m(\u001b[0m\u001b[0mobj\u001b[0m\u001b[1;33m)\u001b[0m\u001b[1;33m,\u001b[0m \u001b[0mmethod\u001b[0m\u001b[1;33m)\u001b[0m\u001b[1;33m(\u001b[0m\u001b[1;33m*\u001b[0m\u001b[0margs\u001b[0m\u001b[1;33m,\u001b[0m \u001b[1;33m**\u001b[0m\u001b[0mkwds\u001b[0m\u001b[1;33m)\u001b[0m\u001b[1;33m\u001b[0m\u001b[1;33m\u001b[0m\u001b[0m\n\u001b[0m\u001b[0;32m     45\u001b[0m     \u001b[1;32mif\u001b[0m \u001b[0mwrap\u001b[0m\u001b[1;33m:\u001b[0m\u001b[1;33m\u001b[0m\u001b[1;33m\u001b[0m\u001b[0m\n\u001b[0;32m     46\u001b[0m         \u001b[1;32mif\u001b[0m \u001b[1;32mnot\u001b[0m \u001b[0misinstance\u001b[0m\u001b[1;33m(\u001b[0m\u001b[0mresult\u001b[0m\u001b[1;33m,\u001b[0m \u001b[0mmu\u001b[0m\u001b[1;33m.\u001b[0m\u001b[0mndarray\u001b[0m\u001b[1;33m)\u001b[0m\u001b[1;33m:\u001b[0m\u001b[1;33m\u001b[0m\u001b[1;33m\u001b[0m\u001b[0m\n",
      "\u001b[1;31mTypeError\u001b[0m: '<' not supported between instances of 'float' and 'str'"
     ]
    },
    {
     "data": {
      "image/png": "[encoded data removed]",
      "text/plain": [
       "<Figure size 432x288 with 1 Axes>"
      ]
     },
     "metadata": {
      "needs_background": "light"
     },
     "output_type": "display_data"
    }
   ],
   "source": [
    "#%% Hypothesis for US male and female developers equally paid\n",
    "#Code is designed in such way can compare for any country.\n",
    "\n",
    "\n",
    "df_allgender=df.groupby(['Gender']).count()\n",
    "df_allgender.sort_values(by=['Respondent'], ascending=False, inplace=True)\n",
    "df_allgender.iloc[0:3, 0].plot.bar()\n",
    "\n",
    "df_allgender=df_allgender.T\n",
    "df_gender= df_allgender[['Female', 'Male']]\n",
    "df_gender=df_gender.iloc[0, :]\n",
    "\n",
    "df_female= df[df['Gender']== 'Female']\n",
    "df_male= df[df['Gender']== 'Male']\n",
    "femaleSalaries_df= df_female[['Country','Currency','CurrencySymbol','Salary']]\n",
    "maleSalaries_df= df_male[['Country','Currency','CurrencySymbol','Salary']]\n",
    "\n",
    "\n",
    "USFemaleSalaries=pd.DataFrame(femaleSalaries_df.groupby('Currency')['Salary'])\n",
    "USMaleSalaries=pd.DataFrame(maleSalaries_df.groupby('Currency')['Salary'])\n",
    "M1=USFemaleSalaries.iloc[18, 1]\n",
    "M2=USMaleSalaries.iloc[18,1]\n",
    "\n",
    "u,p1 = stats.mannwhitneyu(M1,M2)\n",
    "k,p=stats.kstest(M1,M2)"
   ]
  },
  {
   "cell_type": "code",
   "execution_count": 125,
   "metadata": {},
   "outputs": [],
   "source": [
    "def clean_dataset(df):\n",
    "    assert isinstance(df, pd.DataFrame), \"df needs to be a pd.DataFrame\"\n",
    "    df.dropna(inplace=True)\n",
    "    indices_to_keep = ~df.isin([np.nan, np.inf, -np.inf]).any(1)\n",
    "    return df[indices_to_keep].astype(np.float64)"
   ]
  },
  {
   "cell_type": "markdown",
   "metadata": {},
   "source": [
    "# PCA"
   ]
  },
  {
   "cell_type": "code",
   "execution_count": 60,
   "metadata": {},
   "outputs": [],
   "source": [
    "X.to_csv('stacknewdata.csv')"
   ]
  },
  {
   "cell_type": "code",
   "execution_count": 39,
   "metadata": {},
   "outputs": [
    {
     "data": {
      "text/plain": [
       "Index([ 0,  1,  2,  3,  4,  5,  6,  7,  8,  9, 10, 11, 12, 13, 14, 15, 16, 17,\n",
       "       18, 19, 20, 21, 22, 23, 24, 25, 26, 27, 28, 29, 30, 31, 32, 33, 34, 35,\n",
       "       36, 37, 38, 39, 40, 41, 42, 43, 44, 45, 46],\n",
       "      dtype='object')"
      ]
     },
     "execution_count": 39,
     "metadata": {},
     "output_type": "execute_result"
    }
   ],
   "source": [
    "data=X\n",
    "data.columns"
   ]
  },
  {
   "cell_type": "code",
   "execution_count": 134,
   "metadata": {},
   "outputs": [],
   "source": [
    "data.replace([np.inf, -np.inf], np.nan, inplace=True)"
   ]
  },
  {
   "cell_type": "code",
   "execution_count": 136,
   "metadata": {},
   "outputs": [],
   "source": [
    "data.fillna(0, inplace=True)"
   ]
  },
  {
   "cell_type": "code",
   "execution_count": 128,
   "metadata": {},
   "outputs": [
    {
     "data": {
      "text/plain": [
       "(98855, 185)"
      ]
     },
     "execution_count": 128,
     "metadata": {},
     "output_type": "execute_result"
    }
   ],
   "source": [
    "data=clean_dataset(data)\n",
    "data.shape"
   ]
  },
  {
   "cell_type": "code",
   "execution_count": 137,
   "metadata": {},
   "outputs": [
    {
     "data": {
      "text/plain": [
       "True"
      ]
     },
     "execution_count": 137,
     "metadata": {},
     "output_type": "execute_result"
    }
   ],
   "source": [
    "np.all(np.isfinite(data))"
   ]
  },
  {
   "cell_type": "code",
   "execution_count": 129,
   "metadata": {},
   "outputs": [
    {
     "data": {
      "text/plain": [
       "True"
      ]
     },
     "execution_count": 129,
     "metadata": {},
     "output_type": "execute_result"
    }
   ],
   "source": [
    "np.all(np.isfinite(data))"
   ]
  },
  {
   "cell_type": "code",
   "execution_count": 49,
   "metadata": {},
   "outputs": [
    {
     "data": {
      "text/plain": [
       "(37268,)"
      ]
     },
     "execution_count": 49,
     "metadata": {},
     "output_type": "execute_result"
    }
   ],
   "source": [
    "Y=df['ConvertedSalary']\n",
    "Y.shape"
   ]
  },
  {
   "cell_type": "code",
   "execution_count": 69,
   "metadata": {},
   "outputs": [
    {
     "data": {
      "text/plain": [
       "0        6.0\n",
       "1        5.0\n",
       "2        4.0\n",
       "3        3.0\n",
       "4        2.0\n",
       "        ... \n",
       "98850    3.0\n",
       "98851    3.0\n",
       "98852    3.0\n",
       "98853    3.0\n",
       "98854    3.0\n",
       "Name: JobSatisfaction, Length: 98855, dtype: float64"
      ]
     },
     "execution_count": 69,
     "metadata": {},
     "output_type": "execute_result"
    }
   ],
   "source": [
    "df=pd.read_csv('stacknewdata.csv')\n",
    "df['JobSatisfaction']"
   ]
  },
  {
   "cell_type": "code",
   "execution_count": 72,
   "metadata": {},
   "outputs": [
    {
     "data": {
      "text/plain": [
       "True"
      ]
     },
     "execution_count": 72,
     "metadata": {},
     "output_type": "execute_result"
    }
   ],
   "source": [
    "\n",
    "\n",
    "zscoredData = stats.zscore(df)\n",
    "zscoredData= pd.DataFrame(zscoredData)\n",
    "zscoredData=zscoredData.drop(zscoredData.columns[39], axis=1)\n",
    "zscoredData=zscoredData.drop(zscoredData.columns[41], axis=1)\n",
    "zscoredData=zscoredData.drop(zscoredData.columns[40], axis=1)\n",
    "zscoredData=zscoredData.drop(zscoredData.columns[34], axis=1)\n",
    "ans=[]\n",
    "for i in range(182):    \n",
    "    s=np.all(np.isfinite(zscoredData.iloc[:,i]))\n",
    "    if s==False:\n",
    "        ans.append(i)\n",
    "np.all(np.isfinite(zscoredData))"
   ]
  },
  {
   "cell_type": "code",
   "execution_count": 66,
   "metadata": {},
   "outputs": [
    {
     "ename": "ValueError",
     "evalue": "Input contains NaN, infinity or a value too large for dtype('float64').",
     "output_type": "error",
     "traceback": [
      "\u001b[1;31m---------------------------------------------------------------------------\u001b[0m",
      "\u001b[1;31mValueError\u001b[0m                                Traceback (most recent call last)",
      "\u001b[1;32m<ipython-input-66-806384aab93d>\u001b[0m in \u001b[0;36m<module>\u001b[1;34m\u001b[0m\n\u001b[0;32m      2\u001b[0m \u001b[1;32mfrom\u001b[0m \u001b[0msklearn\u001b[0m\u001b[1;33m.\u001b[0m\u001b[0mpreprocessing\u001b[0m \u001b[1;32mimport\u001b[0m \u001b[0mStandardScaler\u001b[0m\u001b[1;33m\u001b[0m\u001b[1;33m\u001b[0m\u001b[0m\n\u001b[0;32m      3\u001b[0m \u001b[1;33m\u001b[0m\u001b[0m\n\u001b[1;32m----> 4\u001b[1;33m \u001b[0mpca\u001b[0m \u001b[1;33m=\u001b[0m \u001b[0mPCA\u001b[0m\u001b[1;33m(\u001b[0m\u001b[1;33m)\u001b[0m\u001b[1;33m.\u001b[0m\u001b[0mfit\u001b[0m\u001b[1;33m(\u001b[0m\u001b[0mzscoredData\u001b[0m\u001b[1;33m)\u001b[0m\u001b[1;33m\u001b[0m\u001b[1;33m\u001b[0m\u001b[0m\n\u001b[0m\u001b[0;32m      5\u001b[0m \u001b[0meigValues\u001b[0m \u001b[1;33m=\u001b[0m \u001b[0mpca\u001b[0m\u001b[1;33m.\u001b[0m\u001b[0mexplained_variance_\u001b[0m\u001b[1;33m\u001b[0m\u001b[1;33m\u001b[0m\u001b[0m\n\u001b[0;32m      6\u001b[0m \u001b[0mloadings_v\u001b[0m \u001b[1;33m=\u001b[0m \u001b[0mpca\u001b[0m\u001b[1;33m.\u001b[0m\u001b[0mcomponents_\u001b[0m\u001b[1;33m\u001b[0m\u001b[1;33m\u001b[0m\u001b[0m\n",
      "\u001b[1;32m~\\anaconda3\\lib\\site-packages\\sklearn\\decomposition\\_pca.py\u001b[0m in \u001b[0;36mfit\u001b[1;34m(self, X, y)\u001b[0m\n\u001b[0;32m    350\u001b[0m             \u001b[0mReturns\u001b[0m \u001b[0mthe\u001b[0m \u001b[0minstance\u001b[0m \u001b[0mitself\u001b[0m\u001b[1;33m.\u001b[0m\u001b[1;33m\u001b[0m\u001b[1;33m\u001b[0m\u001b[0m\n\u001b[0;32m    351\u001b[0m         \"\"\"\n\u001b[1;32m--> 352\u001b[1;33m         \u001b[0mself\u001b[0m\u001b[1;33m.\u001b[0m\u001b[0m_fit\u001b[0m\u001b[1;33m(\u001b[0m\u001b[0mX\u001b[0m\u001b[1;33m)\u001b[0m\u001b[1;33m\u001b[0m\u001b[1;33m\u001b[0m\u001b[0m\n\u001b[0m\u001b[0;32m    353\u001b[0m         \u001b[1;32mreturn\u001b[0m \u001b[0mself\u001b[0m\u001b[1;33m\u001b[0m\u001b[1;33m\u001b[0m\u001b[0m\n\u001b[0;32m    354\u001b[0m \u001b[1;33m\u001b[0m\u001b[0m\n",
      "\u001b[1;32m~\\anaconda3\\lib\\site-packages\\sklearn\\decomposition\\_pca.py\u001b[0m in \u001b[0;36m_fit\u001b[1;34m(self, X)\u001b[0m\n\u001b[0;32m    395\u001b[0m                             'TruncatedSVD for a possible alternative.')\n\u001b[0;32m    396\u001b[0m \u001b[1;33m\u001b[0m\u001b[0m\n\u001b[1;32m--> 397\u001b[1;33m         X = self._validate_data(X, dtype=[np.float64, np.float32],\n\u001b[0m\u001b[0;32m    398\u001b[0m                                 ensure_2d=True, copy=self.copy)\n\u001b[0;32m    399\u001b[0m \u001b[1;33m\u001b[0m\u001b[0m\n",
      "\u001b[1;32m~\\anaconda3\\lib\\site-packages\\sklearn\\base.py\u001b[0m in \u001b[0;36m_validate_data\u001b[1;34m(self, X, y, reset, validate_separately, **check_params)\u001b[0m\n\u001b[0;32m    419\u001b[0m             \u001b[0mout\u001b[0m \u001b[1;33m=\u001b[0m \u001b[0mX\u001b[0m\u001b[1;33m\u001b[0m\u001b[1;33m\u001b[0m\u001b[0m\n\u001b[0;32m    420\u001b[0m         \u001b[1;32melif\u001b[0m \u001b[0misinstance\u001b[0m\u001b[1;33m(\u001b[0m\u001b[0my\u001b[0m\u001b[1;33m,\u001b[0m \u001b[0mstr\u001b[0m\u001b[1;33m)\u001b[0m \u001b[1;32mand\u001b[0m \u001b[0my\u001b[0m \u001b[1;33m==\u001b[0m \u001b[1;34m'no_validation'\u001b[0m\u001b[1;33m:\u001b[0m\u001b[1;33m\u001b[0m\u001b[1;33m\u001b[0m\u001b[0m\n\u001b[1;32m--> 421\u001b[1;33m             \u001b[0mX\u001b[0m \u001b[1;33m=\u001b[0m \u001b[0mcheck_array\u001b[0m\u001b[1;33m(\u001b[0m\u001b[0mX\u001b[0m\u001b[1;33m,\u001b[0m \u001b[1;33m**\u001b[0m\u001b[0mcheck_params\u001b[0m\u001b[1;33m)\u001b[0m\u001b[1;33m\u001b[0m\u001b[1;33m\u001b[0m\u001b[0m\n\u001b[0m\u001b[0;32m    422\u001b[0m             \u001b[0mout\u001b[0m \u001b[1;33m=\u001b[0m \u001b[0mX\u001b[0m\u001b[1;33m\u001b[0m\u001b[1;33m\u001b[0m\u001b[0m\n\u001b[0;32m    423\u001b[0m         \u001b[1;32melse\u001b[0m\u001b[1;33m:\u001b[0m\u001b[1;33m\u001b[0m\u001b[1;33m\u001b[0m\u001b[0m\n",
      "\u001b[1;32m~\\anaconda3\\lib\\site-packages\\sklearn\\utils\\validation.py\u001b[0m in \u001b[0;36minner_f\u001b[1;34m(*args, **kwargs)\u001b[0m\n\u001b[0;32m     61\u001b[0m             \u001b[0mextra_args\u001b[0m \u001b[1;33m=\u001b[0m \u001b[0mlen\u001b[0m\u001b[1;33m(\u001b[0m\u001b[0margs\u001b[0m\u001b[1;33m)\u001b[0m \u001b[1;33m-\u001b[0m \u001b[0mlen\u001b[0m\u001b[1;33m(\u001b[0m\u001b[0mall_args\u001b[0m\u001b[1;33m)\u001b[0m\u001b[1;33m\u001b[0m\u001b[1;33m\u001b[0m\u001b[0m\n\u001b[0;32m     62\u001b[0m             \u001b[1;32mif\u001b[0m \u001b[0mextra_args\u001b[0m \u001b[1;33m<=\u001b[0m \u001b[1;36m0\u001b[0m\u001b[1;33m:\u001b[0m\u001b[1;33m\u001b[0m\u001b[1;33m\u001b[0m\u001b[0m\n\u001b[1;32m---> 63\u001b[1;33m                 \u001b[1;32mreturn\u001b[0m \u001b[0mf\u001b[0m\u001b[1;33m(\u001b[0m\u001b[1;33m*\u001b[0m\u001b[0margs\u001b[0m\u001b[1;33m,\u001b[0m \u001b[1;33m**\u001b[0m\u001b[0mkwargs\u001b[0m\u001b[1;33m)\u001b[0m\u001b[1;33m\u001b[0m\u001b[1;33m\u001b[0m\u001b[0m\n\u001b[0m\u001b[0;32m     64\u001b[0m \u001b[1;33m\u001b[0m\u001b[0m\n\u001b[0;32m     65\u001b[0m             \u001b[1;31m# extra_args > 0\u001b[0m\u001b[1;33m\u001b[0m\u001b[1;33m\u001b[0m\u001b[1;33m\u001b[0m\u001b[0m\n",
      "\u001b[1;32m~\\anaconda3\\lib\\site-packages\\sklearn\\utils\\validation.py\u001b[0m in \u001b[0;36mcheck_array\u001b[1;34m(array, accept_sparse, accept_large_sparse, dtype, order, copy, force_all_finite, ensure_2d, allow_nd, ensure_min_samples, ensure_min_features, estimator)\u001b[0m\n\u001b[0;32m    661\u001b[0m \u001b[1;33m\u001b[0m\u001b[0m\n\u001b[0;32m    662\u001b[0m         \u001b[1;32mif\u001b[0m \u001b[0mforce_all_finite\u001b[0m\u001b[1;33m:\u001b[0m\u001b[1;33m\u001b[0m\u001b[1;33m\u001b[0m\u001b[0m\n\u001b[1;32m--> 663\u001b[1;33m             _assert_all_finite(array,\n\u001b[0m\u001b[0;32m    664\u001b[0m                                allow_nan=force_all_finite == 'allow-nan')\n\u001b[0;32m    665\u001b[0m \u001b[1;33m\u001b[0m\u001b[0m\n",
      "\u001b[1;32m~\\anaconda3\\lib\\site-packages\\sklearn\\utils\\validation.py\u001b[0m in \u001b[0;36m_assert_all_finite\u001b[1;34m(X, allow_nan, msg_dtype)\u001b[0m\n\u001b[0;32m    101\u001b[0m                 not allow_nan and not np.isfinite(X).all()):\n\u001b[0;32m    102\u001b[0m             \u001b[0mtype_err\u001b[0m \u001b[1;33m=\u001b[0m \u001b[1;34m'infinity'\u001b[0m \u001b[1;32mif\u001b[0m \u001b[0mallow_nan\u001b[0m \u001b[1;32melse\u001b[0m \u001b[1;34m'NaN, infinity'\u001b[0m\u001b[1;33m\u001b[0m\u001b[1;33m\u001b[0m\u001b[0m\n\u001b[1;32m--> 103\u001b[1;33m             raise ValueError(\n\u001b[0m\u001b[0;32m    104\u001b[0m                     \u001b[0mmsg_err\u001b[0m\u001b[1;33m.\u001b[0m\u001b[0mformat\u001b[0m\u001b[1;33m\u001b[0m\u001b[1;33m\u001b[0m\u001b[0m\n\u001b[0;32m    105\u001b[0m                     (type_err,\n",
      "\u001b[1;31mValueError\u001b[0m: Input contains NaN, infinity or a value too large for dtype('float64')."
     ]
    }
   ],
   "source": [
    "from sklearn.decomposition import PCA\n",
    "from sklearn.preprocessing import StandardScaler\n",
    "\n",
    "pca = PCA().fit(zscoredData)\n",
    "eigValues = pca.explained_variance_\n",
    "loadings_v = pca.components_\n",
    "u = pca.fit_transform(zscoredData)\n",
    "covarExplained = (sum(eigValues[:10])/sum(eigValues))*100\n",
    "covarExplained"
   ]
  },
  {
   "cell_type": "code",
   "execution_count": 5,
   "metadata": {},
   "outputs": [
    {
     "data": {
      "text/plain": [
       "array([ True,  True,  True,  True,  True,  True,  True,  True,  True,\n",
       "        True,  True,  True,  True,  True,  True,  True,  True,  True,\n",
       "        True,  True,  True,  True,  True,  True,  True,  True,  True,\n",
       "        True,  True,  True,  True,  True,  True,  True,  True,  True,\n",
       "        True,  True,  True,  True,  True,  True,  True,  True,  True,\n",
       "        True,  True, False, False, False, False, False, False, False,\n",
       "       False, False, False, False, False, False, False, False, False,\n",
       "       False, False, False, False, False, False, False, False, False,\n",
       "       False, False, False, False, False, False, False, False, False,\n",
       "       False, False, False, False, False, False, False, False, False,\n",
       "       False, False, False, False, False, False, False, False, False,\n",
       "       False, False, False, False, False, False, False, False, False,\n",
       "       False, False, False, False, False, False, False, False, False,\n",
       "       False, False, False, False, False, False, False, False, False,\n",
       "       False, False, False, False, False, False, False, False, False,\n",
       "       False, False, False, False, False, False, False, False, False,\n",
       "       False, False, False, False, False, False, False, False, False,\n",
       "       False, False, False, False, False, False, False, False, False,\n",
       "       False, False, False, False, False, False, False, False, False,\n",
       "       False, False, False, False, False, False, False, False, False,\n",
       "       False, False, False])"
      ]
     },
     "execution_count": 5,
     "metadata": {},
     "output_type": "execute_result"
    }
   ],
   "source": [
    "eigValues>1 #47 columns"
   ]
  },
  {
   "cell_type": "code",
   "execution_count": 6,
   "metadata": {},
   "outputs": [
    {
     "data": {
      "text/plain": [
       "Text(0, 0.5, 'Eigenvalues')"
      ]
     },
     "execution_count": 6,
     "metadata": {},
     "output_type": "execute_result"
    },
    {
     "data": {
      "image/png": "[encoded data removed]",
      "text/plain": [
       "<Figure size 432x288 with 1 Axes>"
      ]
     },
     "metadata": {
      "needs_background": "light"
     },
     "output_type": "display_data"
    }
   ],
   "source": [
    "import matplotlib.pyplot as plt\n",
    "\n",
    "\n",
    "numPredictors = 183\n",
    "plt.bar(np.linspace(1,numPredictors,numPredictors),eigValues)\n",
    "plt.axhline(y=1, color='r', linestyle='-')\n",
    "plt.title('Scree plot')\n",
    "plt.xlabel('Factors')\n",
    "plt.ylabel('Eigenvalues')"
   ]
  },
  {
   "cell_type": "code",
   "execution_count": 7,
   "metadata": {},
   "outputs": [
    {
     "data": {
      "text/plain": [
       "[5,\n",
       " 155,\n",
       " 172,\n",
       " 120,\n",
       " 53,\n",
       " 157,\n",
       " 155,\n",
       " 75,\n",
       " 74,\n",
       " 86,\n",
       " 26,\n",
       " 0,\n",
       " 46,\n",
       " 14,\n",
       " 52,\n",
       " 46,\n",
       " 16,\n",
       " 31,\n",
       " 101,\n",
       " 99,\n",
       " 19,\n",
       " 32,\n",
       " 113,\n",
       " 19,\n",
       " 32,\n",
       " 132,\n",
       " 30,\n",
       " 16,\n",
       " 81,\n",
       " 17,\n",
       " 10,\n",
       " 17,\n",
       " 12,\n",
       " 68,\n",
       " 19,\n",
       " 167,\n",
       " 10,\n",
       " 11,\n",
       " 13,\n",
       " 149,\n",
       " 11,\n",
       " 167,\n",
       " 29,\n",
       " 12,\n",
       " 167,\n",
       " 167,\n",
       " 10]"
      ]
     },
     "execution_count": 7,
     "metadata": {},
     "output_type": "execute_result"
    }
   ],
   "source": [
    "maxFeat=[]\n",
    "for i in range(47):\n",
    "    maxFeat.append(np.argmax(loadings_v[i,:]*-1))\n",
    "maxFeat"
   ]
  },
  {
   "cell_type": "markdown",
   "metadata": {},
   "source": [
    "# Clustering\n"
   ]
  },
  {
   "cell_type": "code",
   "execution_count": 124,
   "metadata": {},
   "outputs": [
    {
     "data": {
      "text/plain": [
       "dtype('float64')"
      ]
     },
     "execution_count": 124,
     "metadata": {},
     "output_type": "execute_result"
    }
   ],
   "source": [
    "X['JobSatisfaction'].dtypes"
   ]
  },
  {
   "cell_type": "code",
   "execution_count": 125,
   "metadata": {},
   "outputs": [
    {
     "data": {
      "text/plain": [
       "1.0    26184\n",
       "0.0    11084\n",
       "Name: JobSatisfaction, dtype: int64"
      ]
     },
     "execution_count": 125,
     "metadata": {},
     "output_type": "execute_result"
    }
   ],
   "source": [
    "X.loc[X['JobSatisfaction'] <= 3.0, 'JobSatisfaction'] = 0\n",
    "X.loc[X['JobSatisfaction'] > 3.0, 'JobSatisfaction'] = 1\n",
    "X['JobSatisfaction'].value_counts()"
   ]
  },
  {
   "cell_type": "code",
   "execution_count": 36,
   "metadata": {},
   "outputs": [
    {
     "data": {
      "text/plain": [
       "(37268, 200)"
      ]
     },
     "execution_count": 36,
     "metadata": {},
     "output_type": "execute_result"
    }
   ],
   "source": [
    "X.shape"
   ]
  },
  {
   "cell_type": "code",
   "execution_count": null,
   "metadata": {},
   "outputs": [],
   "source": [
    "col=X_new.columns\n",
    "for i in range(1):\n",
    "    for j in range(i+1, 46):\n",
    "        plt.figure()\n",
    "        f1=col[i]\n",
    "        f2=col[j]\n",
    "        plt.scatter(u[:,i], u[:,j])\n",
    "        plt.xlabel(f1)\n",
    "        plt.ylabel(f2)\n",
    "        plt.show()"
   ]
  },
  {
   "cell_type": "code",
   "execution_count": 10,
   "metadata": {},
   "outputs": [
    {
     "data": {
      "image/png": "[encoded data removed]",
      "text/plain": [
       "<Figure size 432x288 with 9 Axes>"
      ]
     },
     "metadata": {
      "needs_background": "light"
     },
     "output_type": "display_data"
    }
   ],
   "source": [
    "from sklearn.cluster import KMeans\n",
    "from sklearn.metrics import silhouette_samples\n",
    "\n",
    "numClusters = 9 # how many clusters are we looping over? (from 2 to 10)\n",
    "Q = np.empty([numClusters,1]) # init container to store sums\n",
    "Q[:] = np.NaN # convert to NaN\n",
    "\n",
    "ans=[]\n",
    "plt.figure()\n",
    "# Compute kMeans:\n",
    "for ii in range(2, 11): # Loop through each cluster (from 2 to 10!)\n",
    "    kMeans = KMeans(n_clusters = int(ii)).fit(X_new) # compute kmeans\n",
    "    cId = kMeans.labels_ # vector of cluster IDs that the row belongs to\n",
    "    cCoords = kMeans.cluster_centers_ # coordinate location for center of each cluster\n",
    "    my_dict = {cCoords[i, 0]: np.where(cId== i)[0] for i in range(kMeans.n_clusters)}\n",
    "    ans.append(my_dict)\n",
    "    s = silhouette_samples(X_new,cId) # compute the mean silhouette coefficient of all samples\n",
    "    # print(s.shape)\n",
    "    Q[ii-2] = sum(s) # take sum\n",
    "    # Plot data:\n",
    "    plt.subplot(3,3,ii-1) \n",
    "    plt.hist(s,bins=100) \n",
    "    plt.xlim(-0.2,1)\n",
    "    plt.ylim(0,500)\n",
    "    plt.xlabel('Silhouette score')\n",
    "    plt.ylabel('Count')\n",
    "    plt.title('Sum: {}'.format(int(Q[ii-2])))"
   ]
  },
  {
   "cell_type": "code",
   "execution_count": 11,
   "metadata": {},
   "outputs": [
    {
     "data": {
      "image/png": "[encoded data removed]",
      "text/plain": [
       "<Figure size 432x288 with 1 Axes>"
      ]
     },
     "metadata": {
      "needs_background": "light"
     },
     "output_type": "display_data"
    }
   ],
   "source": [
    "plt.figure()\n",
    "plt.plot(np.linspace(2,10,numClusters),Q)\n",
    "plt.xlabel('Number of clusters')\n",
    "plt.ylabel('Sum of silhouette scores')\n",
    "plt.show()"
   ]
  },
  {
   "cell_type": "code",
   "execution_count": 36,
   "metadata": {},
   "outputs": [
    {
     "data": {
      "image/png": "[encoded data removed]",
      "text/plain": [
       "<Figure size 432x288 with 1 Axes>"
      ]
     },
     "metadata": {
      "needs_background": "light"
     },
     "output_type": "display_data"
    }
   ],
   "source": [
    "c= (np.argmax(Q)+2)\n",
    "#Which two features do you want to visualize\n",
    "v=[0,1]\n",
    "plt.figure()\n",
    "indexVector = np.linspace(1,c,c) \n",
    "for ii in indexVector:\n",
    "    plotIndex = np.argwhere(cId == int(ii-1))\n",
    "    plt.plot(u[plotIndex,v[0]],u[plotIndex,v[1]],'o',markersize=1)\n",
    "    plt.plot(cCoords[int(ii-1),v[0]],cCoords[int(ii-1),v[1]],'o',markersize=5,color='black')  \n",
    "    plt.xlabel('Questions')\n",
    "    plt.ylabel('Loadings')"
   ]
  },
  {
   "cell_type": "code",
   "execution_count": 20,
   "metadata": {},
   "outputs": [
    {
     "data": {
      "text/plain": [
       "array([0, 0, 1, ..., 1, 1, 1])"
      ]
     },
     "execution_count": 20,
     "metadata": {},
     "output_type": "execute_result"
    }
   ],
   "source": [
    "kMeans = KMeans(n_clusters = 2).fit(X_new)\n",
    "y_pred=kMeans.fit_predict(X_new)\n",
    "y_pred"
   ]
  },
  {
   "cell_type": "code",
   "execution_count": 30,
   "metadata": {},
   "outputs": [
    {
     "data": {
      "text/plain": [
       "0    56916\n",
       "1    41939\n",
       "Name: cluster, dtype: int64"
      ]
     },
     "execution_count": 30,
     "metadata": {},
     "output_type": "execute_result"
    }
   ],
   "source": [
    "df=pd.DataFrame(X_new)\n",
    "df['cluster']=y_pred\n",
    "df['cluster'].value_counts()"
   ]
  },
  {
   "cell_type": "code",
   "execution_count": 37,
   "metadata": {},
   "outputs": [
    {
     "data": {
      "text/html": [
       "<div>\n",
       "<style scoped>\n",
       "    .dataframe tbody tr th:only-of-type {\n",
       "        vertical-align: middle;\n",
       "    }\n",
       "\n",
       "    .dataframe tbody tr th {\n",
       "        vertical-align: top;\n",
       "    }\n",
       "\n",
       "    .dataframe thead th {\n",
       "        text-align: right;\n",
       "    }\n",
       "</style>\n",
       "<table border=\"1\" class=\"dataframe\">\n",
       "  <thead>\n",
       "    <tr style=\"text-align: right;\">\n",
       "      <th></th>\n",
       "      <th>0</th>\n",
       "      <th>1</th>\n",
       "      <th>2</th>\n",
       "      <th>3</th>\n",
       "      <th>4</th>\n",
       "      <th>5</th>\n",
       "      <th>6</th>\n",
       "      <th>7</th>\n",
       "      <th>8</th>\n",
       "      <th>9</th>\n",
       "      <th>...</th>\n",
       "      <th>37</th>\n",
       "      <th>38</th>\n",
       "      <th>39</th>\n",
       "      <th>40</th>\n",
       "      <th>41</th>\n",
       "      <th>42</th>\n",
       "      <th>43</th>\n",
       "      <th>44</th>\n",
       "      <th>45</th>\n",
       "      <th>46</th>\n",
       "    </tr>\n",
       "  </thead>\n",
       "  <tbody>\n",
       "    <tr>\n",
       "      <th>0</th>\n",
       "      <td>3.709982</td>\n",
       "      <td>0.112943</td>\n",
       "      <td>-2.212247</td>\n",
       "      <td>0.024471</td>\n",
       "      <td>1.071342</td>\n",
       "      <td>1.560644</td>\n",
       "      <td>-1.455095</td>\n",
       "      <td>1.572278</td>\n",
       "      <td>0.716899</td>\n",
       "      <td>-0.862091</td>\n",
       "      <td>...</td>\n",
       "      <td>1.024999</td>\n",
       "      <td>1.363455</td>\n",
       "      <td>0.840829</td>\n",
       "      <td>-1.339812</td>\n",
       "      <td>-0.070931</td>\n",
       "      <td>-0.524773</td>\n",
       "      <td>-0.908595</td>\n",
       "      <td>-0.493906</td>\n",
       "      <td>1.219663</td>\n",
       "      <td>-0.257402</td>\n",
       "    </tr>\n",
       "    <tr>\n",
       "      <th>1</th>\n",
       "      <td>-0.015257</td>\n",
       "      <td>3.290548</td>\n",
       "      <td>-2.433202</td>\n",
       "      <td>1.198268</td>\n",
       "      <td>-1.281687</td>\n",
       "      <td>0.443805</td>\n",
       "      <td>2.016810</td>\n",
       "      <td>-3.713421</td>\n",
       "      <td>-0.366938</td>\n",
       "      <td>-1.601194</td>\n",
       "      <td>...</td>\n",
       "      <td>0.787817</td>\n",
       "      <td>0.527868</td>\n",
       "      <td>0.890276</td>\n",
       "      <td>-0.584981</td>\n",
       "      <td>1.021295</td>\n",
       "      <td>2.272391</td>\n",
       "      <td>-1.572716</td>\n",
       "      <td>0.637223</td>\n",
       "      <td>-0.390513</td>\n",
       "      <td>2.160754</td>\n",
       "    </tr>\n",
       "    <tr>\n",
       "      <th>2</th>\n",
       "      <td>-4.021943</td>\n",
       "      <td>0.775619</td>\n",
       "      <td>-1.499950</td>\n",
       "      <td>-0.511123</td>\n",
       "      <td>1.261601</td>\n",
       "      <td>0.786272</td>\n",
       "      <td>0.856516</td>\n",
       "      <td>-0.700384</td>\n",
       "      <td>-0.287865</td>\n",
       "      <td>-0.106019</td>\n",
       "      <td>...</td>\n",
       "      <td>0.470044</td>\n",
       "      <td>0.582862</td>\n",
       "      <td>0.869394</td>\n",
       "      <td>0.922981</td>\n",
       "      <td>-0.460666</td>\n",
       "      <td>-0.017960</td>\n",
       "      <td>0.523032</td>\n",
       "      <td>0.737100</td>\n",
       "      <td>-0.519123</td>\n",
       "      <td>-0.245539</td>\n",
       "    </tr>\n",
       "    <tr>\n",
       "      <th>3</th>\n",
       "      <td>0.715903</td>\n",
       "      <td>-3.361822</td>\n",
       "      <td>-2.805428</td>\n",
       "      <td>0.544165</td>\n",
       "      <td>2.311937</td>\n",
       "      <td>0.233530</td>\n",
       "      <td>-2.000312</td>\n",
       "      <td>0.872428</td>\n",
       "      <td>0.843388</td>\n",
       "      <td>-0.972044</td>\n",
       "      <td>...</td>\n",
       "      <td>0.395808</td>\n",
       "      <td>-0.392007</td>\n",
       "      <td>-0.300569</td>\n",
       "      <td>0.338691</td>\n",
       "      <td>-0.195309</td>\n",
       "      <td>0.170568</td>\n",
       "      <td>-0.843690</td>\n",
       "      <td>-0.270000</td>\n",
       "      <td>-0.913062</td>\n",
       "      <td>-0.387687</td>\n",
       "    </tr>\n",
       "    <tr>\n",
       "      <th>4</th>\n",
       "      <td>0.273025</td>\n",
       "      <td>-1.072198</td>\n",
       "      <td>2.491464</td>\n",
       "      <td>4.673674</td>\n",
       "      <td>2.652502</td>\n",
       "      <td>-1.050616</td>\n",
       "      <td>-0.195147</td>\n",
       "      <td>-3.164708</td>\n",
       "      <td>1.181005</td>\n",
       "      <td>1.134838</td>\n",
       "      <td>...</td>\n",
       "      <td>0.846432</td>\n",
       "      <td>0.705415</td>\n",
       "      <td>1.392179</td>\n",
       "      <td>-0.238396</td>\n",
       "      <td>-1.032053</td>\n",
       "      <td>-1.150831</td>\n",
       "      <td>0.935803</td>\n",
       "      <td>-0.079069</td>\n",
       "      <td>0.359077</td>\n",
       "      <td>2.208858</td>\n",
       "    </tr>\n",
       "    <tr>\n",
       "      <th>...</th>\n",
       "      <td>...</td>\n",
       "      <td>...</td>\n",
       "      <td>...</td>\n",
       "      <td>...</td>\n",
       "      <td>...</td>\n",
       "      <td>...</td>\n",
       "      <td>...</td>\n",
       "      <td>...</td>\n",
       "      <td>...</td>\n",
       "      <td>...</td>\n",
       "      <td>...</td>\n",
       "      <td>...</td>\n",
       "      <td>...</td>\n",
       "      <td>...</td>\n",
       "      <td>...</td>\n",
       "      <td>...</td>\n",
       "      <td>...</td>\n",
       "      <td>...</td>\n",
       "      <td>...</td>\n",
       "      <td>...</td>\n",
       "      <td>...</td>\n",
       "    </tr>\n",
       "    <tr>\n",
       "      <th>98850</th>\n",
       "      <td>-5.337102</td>\n",
       "      <td>1.368598</td>\n",
       "      <td>1.008486</td>\n",
       "      <td>-0.288426</td>\n",
       "      <td>-1.008396</td>\n",
       "      <td>1.509426</td>\n",
       "      <td>-1.492096</td>\n",
       "      <td>1.274328</td>\n",
       "      <td>-0.146523</td>\n",
       "      <td>0.235097</td>\n",
       "      <td>...</td>\n",
       "      <td>-0.533608</td>\n",
       "      <td>0.710740</td>\n",
       "      <td>0.288659</td>\n",
       "      <td>0.548855</td>\n",
       "      <td>0.003895</td>\n",
       "      <td>-0.789217</td>\n",
       "      <td>0.055289</td>\n",
       "      <td>0.117527</td>\n",
       "      <td>0.224868</td>\n",
       "      <td>0.255297</td>\n",
       "    </tr>\n",
       "    <tr>\n",
       "      <th>98851</th>\n",
       "      <td>-4.984879</td>\n",
       "      <td>0.746179</td>\n",
       "      <td>0.558720</td>\n",
       "      <td>-0.145349</td>\n",
       "      <td>-0.899269</td>\n",
       "      <td>1.858773</td>\n",
       "      <td>-0.547125</td>\n",
       "      <td>1.012508</td>\n",
       "      <td>-0.270948</td>\n",
       "      <td>0.145347</td>\n",
       "      <td>...</td>\n",
       "      <td>0.392207</td>\n",
       "      <td>-0.785586</td>\n",
       "      <td>-0.639958</td>\n",
       "      <td>-0.160360</td>\n",
       "      <td>-0.052542</td>\n",
       "      <td>0.443119</td>\n",
       "      <td>-0.052864</td>\n",
       "      <td>0.127462</td>\n",
       "      <td>-0.448130</td>\n",
       "      <td>-0.677205</td>\n",
       "    </tr>\n",
       "    <tr>\n",
       "      <th>98852</th>\n",
       "      <td>-4.998065</td>\n",
       "      <td>1.075068</td>\n",
       "      <td>0.034154</td>\n",
       "      <td>-0.470396</td>\n",
       "      <td>-0.065680</td>\n",
       "      <td>0.768540</td>\n",
       "      <td>-0.342025</td>\n",
       "      <td>0.832752</td>\n",
       "      <td>-0.035525</td>\n",
       "      <td>0.276068</td>\n",
       "      <td>...</td>\n",
       "      <td>-0.494143</td>\n",
       "      <td>0.842325</td>\n",
       "      <td>0.394109</td>\n",
       "      <td>0.650063</td>\n",
       "      <td>0.203613</td>\n",
       "      <td>-0.444177</td>\n",
       "      <td>0.018017</td>\n",
       "      <td>0.154735</td>\n",
       "      <td>0.585000</td>\n",
       "      <td>0.596719</td>\n",
       "    </tr>\n",
       "    <tr>\n",
       "      <th>98853</th>\n",
       "      <td>-5.259953</td>\n",
       "      <td>1.056422</td>\n",
       "      <td>0.477437</td>\n",
       "      <td>-0.271816</td>\n",
       "      <td>-0.438348</td>\n",
       "      <td>1.033863</td>\n",
       "      <td>-0.882169</td>\n",
       "      <td>1.114986</td>\n",
       "      <td>0.101851</td>\n",
       "      <td>0.226775</td>\n",
       "      <td>...</td>\n",
       "      <td>-0.415078</td>\n",
       "      <td>0.535292</td>\n",
       "      <td>-0.084742</td>\n",
       "      <td>0.109212</td>\n",
       "      <td>-0.228152</td>\n",
       "      <td>-0.790408</td>\n",
       "      <td>-0.077983</td>\n",
       "      <td>-0.037699</td>\n",
       "      <td>-0.007036</td>\n",
       "      <td>0.472684</td>\n",
       "    </tr>\n",
       "    <tr>\n",
       "      <th>98854</th>\n",
       "      <td>-5.390061</td>\n",
       "      <td>1.317895</td>\n",
       "      <td>1.185941</td>\n",
       "      <td>-0.315068</td>\n",
       "      <td>-1.150481</td>\n",
       "      <td>1.408171</td>\n",
       "      <td>-1.313984</td>\n",
       "      <td>1.493851</td>\n",
       "      <td>-0.339584</td>\n",
       "      <td>0.415366</td>\n",
       "      <td>...</td>\n",
       "      <td>-0.571359</td>\n",
       "      <td>0.651227</td>\n",
       "      <td>0.363689</td>\n",
       "      <td>0.413519</td>\n",
       "      <td>0.134978</td>\n",
       "      <td>-0.652655</td>\n",
       "      <td>-0.134300</td>\n",
       "      <td>0.304247</td>\n",
       "      <td>0.214254</td>\n",
       "      <td>0.312618</td>\n",
       "    </tr>\n",
       "  </tbody>\n",
       "</table>\n",
       "<p>98855 rows × 47 columns</p>\n",
       "</div>"
      ],
      "text/plain": [
       "             0         1         2         3         4         5         6   \\\n",
       "0      3.709982  0.112943 -2.212247  0.024471  1.071342  1.560644 -1.455095   \n",
       "1     -0.015257  3.290548 -2.433202  1.198268 -1.281687  0.443805  2.016810   \n",
       "2     -4.021943  0.775619 -1.499950 -0.511123  1.261601  0.786272  0.856516   \n",
       "3      0.715903 -3.361822 -2.805428  0.544165  2.311937  0.233530 -2.000312   \n",
       "4      0.273025 -1.072198  2.491464  4.673674  2.652502 -1.050616 -0.195147   \n",
       "...         ...       ...       ...       ...       ...       ...       ...   \n",
       "98850 -5.337102  1.368598  1.008486 -0.288426 -1.008396  1.509426 -1.492096   \n",
       "98851 -4.984879  0.746179  0.558720 -0.145349 -0.899269  1.858773 -0.547125   \n",
       "98852 -4.998065  1.075068  0.034154 -0.470396 -0.065680  0.768540 -0.342025   \n",
       "98853 -5.259953  1.056422  0.477437 -0.271816 -0.438348  1.033863 -0.882169   \n",
       "98854 -5.390061  1.317895  1.185941 -0.315068 -1.150481  1.408171 -1.313984   \n",
       "\n",
       "             7         8         9   ...        37        38        39  \\\n",
       "0      1.572278  0.716899 -0.862091  ...  1.024999  1.363455  0.840829   \n",
       "1     -3.713421 -0.366938 -1.601194  ...  0.787817  0.527868  0.890276   \n",
       "2     -0.700384 -0.287865 -0.106019  ...  0.470044  0.582862  0.869394   \n",
       "3      0.872428  0.843388 -0.972044  ...  0.395808 -0.392007 -0.300569   \n",
       "4     -3.164708  1.181005  1.134838  ...  0.846432  0.705415  1.392179   \n",
       "...         ...       ...       ...  ...       ...       ...       ...   \n",
       "98850  1.274328 -0.146523  0.235097  ... -0.533608  0.710740  0.288659   \n",
       "98851  1.012508 -0.270948  0.145347  ...  0.392207 -0.785586 -0.639958   \n",
       "98852  0.832752 -0.035525  0.276068  ... -0.494143  0.842325  0.394109   \n",
       "98853  1.114986  0.101851  0.226775  ... -0.415078  0.535292 -0.084742   \n",
       "98854  1.493851 -0.339584  0.415366  ... -0.571359  0.651227  0.363689   \n",
       "\n",
       "             40        41        42        43        44        45        46  \n",
       "0     -1.339812 -0.070931 -0.524773 -0.908595 -0.493906  1.219663 -0.257402  \n",
       "1     -0.584981  1.021295  2.272391 -1.572716  0.637223 -0.390513  2.160754  \n",
       "2      0.922981 -0.460666 -0.017960  0.523032  0.737100 -0.519123 -0.245539  \n",
       "3      0.338691 -0.195309  0.170568 -0.843690 -0.270000 -0.913062 -0.387687  \n",
       "4     -0.238396 -1.032053 -1.150831  0.935803 -0.079069  0.359077  2.208858  \n",
       "...         ...       ...       ...       ...       ...       ...       ...  \n",
       "98850  0.548855  0.003895 -0.789217  0.055289  0.117527  0.224868  0.255297  \n",
       "98851 -0.160360 -0.052542  0.443119 -0.052864  0.127462 -0.448130 -0.677205  \n",
       "98852  0.650063  0.203613 -0.444177  0.018017  0.154735  0.585000  0.596719  \n",
       "98853  0.109212 -0.228152 -0.790408 -0.077983 -0.037699 -0.007036  0.472684  \n",
       "98854  0.413519  0.134978 -0.652655 -0.134300  0.304247  0.214254  0.312618  \n",
       "\n",
       "[98855 rows x 47 columns]"
      ]
     },
     "execution_count": 37,
     "metadata": {},
     "output_type": "execute_result"
    }
   ],
   "source": [
    "X"
   ]
  },
  {
   "cell_type": "code",
   "execution_count": 126,
   "metadata": {},
   "outputs": [
    {
     "data": {
      "text/plain": [
       "1        0.0\n",
       "4        1.0\n",
       "5        1.0\n",
       "6        1.0\n",
       "8        1.0\n",
       "        ... \n",
       "71523    1.0\n",
       "71524    1.0\n",
       "71526    1.0\n",
       "71529    1.0\n",
       "71530    0.0\n",
       "Name: JobSatisfaction, Length: 37268, dtype: float64"
      ]
     },
     "execution_count": 126,
     "metadata": {},
     "output_type": "execute_result"
    }
   ],
   "source": [
    "Y=X['JobSatisfaction']\n",
    "Y"
   ]
  },
  {
   "cell_type": "code",
   "execution_count": 35,
   "metadata": {},
   "outputs": [
    {
     "name": "stdout",
     "output_type": "stream",
     "text": [
      "0.9836529902079792\n"
     ]
    }
   ],
   "source": [
    "from sklearn.ensemble import RandomForestClassifier\n",
    "\n",
    "X_train,X_test,y_train,y_test=train_test_split(X,Y)\n",
    "clf=RandomForestClassifier()\n",
    "clf.fit(X_train,y_train)\n",
    "# y_hat=clf.predict(X_test,y_test)\n",
    "print(clf.score(X_test, y_test))"
   ]
  },
  {
   "cell_type": "markdown",
   "metadata": {},
   "source": [
    "# Regression\n"
   ]
  },
  {
   "cell_type": "code",
   "execution_count": 19,
   "metadata": {},
   "outputs": [
    {
     "data": {
      "text/plain": [
       "(37268, 200)"
      ]
     },
     "execution_count": 19,
     "metadata": {},
     "output_type": "execute_result"
    }
   ],
   "source": [
    "X_new=X\n",
    "X_new.shape"
   ]
  },
  {
   "cell_type": "code",
   "execution_count": 23,
   "metadata": {},
   "outputs": [
    {
     "data": {
      "text/plain": [
       "1         70841.0\n",
       "4         21426.0\n",
       "5         41671.0\n",
       "6        120000.0\n",
       "8        250000.0\n",
       "           ...   \n",
       "71523    134000.0\n",
       "71524    165000.0\n",
       "71526     64417.0\n",
       "71529    160000.0\n",
       "71530    107500.0\n",
       "Name: ConvertedSalary, Length: 37268, dtype: float64"
      ]
     },
     "execution_count": 23,
     "metadata": {},
     "output_type": "execute_result"
    }
   ],
   "source": [
    "Y=X['ConvertedSalary']\n",
    "Y"
   ]
  },
  {
   "cell_type": "code",
   "execution_count": 24,
   "metadata": {},
   "outputs": [],
   "source": [
    "sc=StandardScaler()\n",
    "sc.fit(X_new)\n",
    "X_new=sc.transform(X_new)\n",
    "X_train,X_test,y_train,y_test=train_test_split(X_new,Y)\n",
    "\n",
    "# regr = svm.SVR(kernel='linear')\n",
    "# regr.fit(X_train, y_train)\n",
    "# y_hat=regr.predict(X_test)\n",
    "# print(regr.score(X_test, y_test))\n",
    "# pd.DataFrame(y_hat, y_test)\n"
   ]
  },
  {
   "cell_type": "code",
   "execution_count": 25,
   "metadata": {},
   "outputs": [
    {
     "name": "stdout",
     "output_type": "stream",
     "text": [
      "testing error 0.0 4.448188533675542e-19\n",
      "testing error 1e-08 5.065824402899258e-10\n",
      "testing error 1e-05 5.74026614577013e-09\n",
      "testing error 0.1 0.5739615689293623\n",
      "testing error 1 57.392134612696275\n",
      "testing error 10 5735.193801718182\n",
      "optimal_alpha 0.0 4.448188533675542e-19\n"
     ]
    },
    {
     "data": {
      "text/html": [
       "<div>\n",
       "<style scoped>\n",
       "    .dataframe tbody tr th:only-of-type {\n",
       "        vertical-align: middle;\n",
       "    }\n",
       "\n",
       "    .dataframe tbody tr th {\n",
       "        vertical-align: top;\n",
       "    }\n",
       "\n",
       "    .dataframe thead th {\n",
       "        text-align: right;\n",
       "    }\n",
       "</style>\n",
       "<table border=\"1\" class=\"dataframe\">\n",
       "  <thead>\n",
       "    <tr style=\"text-align: right;\">\n",
       "      <th></th>\n",
       "      <th>0</th>\n",
       "    </tr>\n",
       "    <tr>\n",
       "      <th>ConvertedSalary</th>\n",
       "      <th></th>\n",
       "    </tr>\n",
       "  </thead>\n",
       "  <tbody>\n",
       "    <tr>\n",
       "      <th>70000.0</th>\n",
       "      <td>70019.470285</td>\n",
       "    </tr>\n",
       "    <tr>\n",
       "      <th>75000.0</th>\n",
       "      <td>75018.243006</td>\n",
       "    </tr>\n",
       "    <tr>\n",
       "      <th>5636.0</th>\n",
       "      <td>5659.009576</td>\n",
       "    </tr>\n",
       "    <tr>\n",
       "      <th>83342.0</th>\n",
       "      <td>83334.213585</td>\n",
       "    </tr>\n",
       "    <tr>\n",
       "      <th>72209.0</th>\n",
       "      <td>72222.802992</td>\n",
       "    </tr>\n",
       "    <tr>\n",
       "      <th>...</th>\n",
       "      <td>...</td>\n",
       "    </tr>\n",
       "    <tr>\n",
       "      <th>5844.0</th>\n",
       "      <td>5856.691130</td>\n",
       "    </tr>\n",
       "    <tr>\n",
       "      <th>61194.0</th>\n",
       "      <td>61210.869209</td>\n",
       "    </tr>\n",
       "    <tr>\n",
       "      <th>27600.0</th>\n",
       "      <td>27660.438300</td>\n",
       "    </tr>\n",
       "    <tr>\n",
       "      <th>140000.0</th>\n",
       "      <td>139999.541096</td>\n",
       "    </tr>\n",
       "    <tr>\n",
       "      <th>70000.0</th>\n",
       "      <td>70019.323512</td>\n",
       "    </tr>\n",
       "  </tbody>\n",
       "</table>\n",
       "<p>9317 rows × 1 columns</p>\n",
       "</div>"
      ],
      "text/plain": [
       "                             0\n",
       "ConvertedSalary               \n",
       "70000.0           70019.470285\n",
       "75000.0           75018.243006\n",
       "5636.0             5659.009576\n",
       "83342.0           83334.213585\n",
       "72209.0           72222.802992\n",
       "...                        ...\n",
       "5844.0             5856.691130\n",
       "61194.0           61210.869209\n",
       "27600.0           27660.438300\n",
       "140000.0         139999.541096\n",
       "70000.0           70019.323512\n",
       "\n",
       "[9317 rows x 1 columns]"
      ]
     },
     "execution_count": 25,
     "metadata": {},
     "output_type": "execute_result"
    }
   ],
   "source": [
    "alphas = [0.0, 1e-8, 1e-5, 0.1, 1, 10]\n",
    "alphaErrMap = {}\n",
    "for alpha in alphas:\n",
    "    reg = Ridge(alpha=alpha)\n",
    "    reg.fit(X_train,y_train)\n",
    "    df_Y_test_pred = reg.predict(X_test)\n",
    "    testing_error = mean_squared_error(y_test, df_Y_test_pred)\n",
    "    # iI) testing error\n",
    "    print(\"testing error\",alpha, testing_error)\n",
    "    alphaErrMap[alpha] = testing_error\n",
    "\n",
    "optimal_alpha = min(alphaErrMap, key=alphaErrMap.get)\n",
    "print(\"optimal_alpha\",optimal_alpha,alphaErrMap[optimal_alpha])\n",
    "pd.DataFrame(df_Y_test_pred, y_test)"
   ]
  },
  {
   "cell_type": "code",
   "execution_count": 26,
   "metadata": {},
   "outputs": [
    {
     "name": "stdout",
     "output_type": "stream",
     "text": [
      "0.9999999735636078\n",
      "0.9999999737104524\n",
      "0.9999999751629719\n",
      "0.9999999854859688\n"
     ]
    }
   ],
   "source": [
    "alphas = [1e-3, 1e-2, 1e-1, 1]\n",
    "\n",
    "for alpha in alphas:\n",
    "    est=make_pipeline(Lasso(alpha=alpha))\n",
    "    est.fit(X_train, y_train)\n",
    "    Y_hat=est.predict(X_test)\n",
    "    print(est.score(X_test, y_test))\n"
   ]
  },
  {
   "cell_type": "code",
   "execution_count": 27,
   "metadata": {},
   "outputs": [
    {
     "ename": "KeyboardInterrupt",
     "evalue": "",
     "output_type": "error",
     "traceback": [
      "\u001b[1;31m---------------------------------------------------------------------------\u001b[0m",
      "\u001b[1;31mKeyboardInterrupt\u001b[0m                         Traceback (most recent call last)",
      "\u001b[1;32m<ipython-input-27-73b95e4816db>\u001b[0m in \u001b[0;36m<module>\u001b[1;34m\u001b[0m\n\u001b[0;32m      2\u001b[0m \u001b[1;33m\u001b[0m\u001b[0m\n\u001b[0;32m      3\u001b[0m \u001b[0mregr\u001b[0m \u001b[1;33m=\u001b[0m \u001b[0mRandomForestRegressor\u001b[0m\u001b[1;33m(\u001b[0m\u001b[1;33m)\u001b[0m\u001b[1;33m\u001b[0m\u001b[1;33m\u001b[0m\u001b[0m\n\u001b[1;32m----> 4\u001b[1;33m \u001b[0mregr\u001b[0m\u001b[1;33m.\u001b[0m\u001b[0mfit\u001b[0m\u001b[1;33m(\u001b[0m\u001b[0mX_train\u001b[0m\u001b[1;33m,\u001b[0m \u001b[0my_train\u001b[0m\u001b[1;33m)\u001b[0m\u001b[1;33m\u001b[0m\u001b[1;33m\u001b[0m\u001b[0m\n\u001b[0m\u001b[0;32m      5\u001b[0m \u001b[0mY_hat\u001b[0m\u001b[1;33m=\u001b[0m\u001b[0mest\u001b[0m\u001b[1;33m.\u001b[0m\u001b[0mpredict\u001b[0m\u001b[1;33m(\u001b[0m\u001b[0mX_test\u001b[0m\u001b[1;33m)\u001b[0m\u001b[1;33m\u001b[0m\u001b[1;33m\u001b[0m\u001b[0m\n\u001b[0;32m      6\u001b[0m \u001b[0mprint\u001b[0m\u001b[1;33m(\u001b[0m\u001b[0mregr\u001b[0m\u001b[1;33m.\u001b[0m\u001b[0mscore\u001b[0m\u001b[1;33m(\u001b[0m\u001b[0mX_test\u001b[0m\u001b[1;33m,\u001b[0m \u001b[0my_test\u001b[0m\u001b[1;33m)\u001b[0m\u001b[1;33m)\u001b[0m\u001b[1;33m\u001b[0m\u001b[1;33m\u001b[0m\u001b[0m\n",
      "\u001b[1;32m~\\anaconda3\\lib\\site-packages\\sklearn\\ensemble\\_forest.py\u001b[0m in \u001b[0;36mfit\u001b[1;34m(self, X, y, sample_weight)\u001b[0m\n\u001b[0;32m    385\u001b[0m             \u001b[1;31m# parallel_backend contexts set at a higher level,\u001b[0m\u001b[1;33m\u001b[0m\u001b[1;33m\u001b[0m\u001b[1;33m\u001b[0m\u001b[0m\n\u001b[0;32m    386\u001b[0m             \u001b[1;31m# since correctness does not rely on using threads.\u001b[0m\u001b[1;33m\u001b[0m\u001b[1;33m\u001b[0m\u001b[1;33m\u001b[0m\u001b[0m\n\u001b[1;32m--> 387\u001b[1;33m             trees = Parallel(n_jobs=self.n_jobs, verbose=self.verbose,\n\u001b[0m\u001b[0;32m    388\u001b[0m                              \u001b[1;33m**\u001b[0m\u001b[0m_joblib_parallel_args\u001b[0m\u001b[1;33m(\u001b[0m\u001b[0mprefer\u001b[0m\u001b[1;33m=\u001b[0m\u001b[1;34m'threads'\u001b[0m\u001b[1;33m)\u001b[0m\u001b[1;33m)\u001b[0m\u001b[1;33m(\u001b[0m\u001b[1;33m\u001b[0m\u001b[1;33m\u001b[0m\u001b[0m\n\u001b[0;32m    389\u001b[0m                 delayed(_parallel_build_trees)(\n",
      "\u001b[1;32m~\\anaconda3\\lib\\site-packages\\joblib\\parallel.py\u001b[0m in \u001b[0;36m__call__\u001b[1;34m(self, iterable)\u001b[0m\n\u001b[0;32m   1042\u001b[0m                 \u001b[0mself\u001b[0m\u001b[1;33m.\u001b[0m\u001b[0m_iterating\u001b[0m \u001b[1;33m=\u001b[0m \u001b[0mself\u001b[0m\u001b[1;33m.\u001b[0m\u001b[0m_original_iterator\u001b[0m \u001b[1;32mis\u001b[0m \u001b[1;32mnot\u001b[0m \u001b[1;32mNone\u001b[0m\u001b[1;33m\u001b[0m\u001b[1;33m\u001b[0m\u001b[0m\n\u001b[0;32m   1043\u001b[0m \u001b[1;33m\u001b[0m\u001b[0m\n\u001b[1;32m-> 1044\u001b[1;33m             \u001b[1;32mwhile\u001b[0m \u001b[0mself\u001b[0m\u001b[1;33m.\u001b[0m\u001b[0mdispatch_one_batch\u001b[0m\u001b[1;33m(\u001b[0m\u001b[0miterator\u001b[0m\u001b[1;33m)\u001b[0m\u001b[1;33m:\u001b[0m\u001b[1;33m\u001b[0m\u001b[1;33m\u001b[0m\u001b[0m\n\u001b[0m\u001b[0;32m   1045\u001b[0m                 \u001b[1;32mpass\u001b[0m\u001b[1;33m\u001b[0m\u001b[1;33m\u001b[0m\u001b[0m\n\u001b[0;32m   1046\u001b[0m \u001b[1;33m\u001b[0m\u001b[0m\n",
      "\u001b[1;32m~\\anaconda3\\lib\\site-packages\\joblib\\parallel.py\u001b[0m in \u001b[0;36mdispatch_one_batch\u001b[1;34m(self, iterator)\u001b[0m\n\u001b[0;32m    857\u001b[0m                 \u001b[1;32mreturn\u001b[0m \u001b[1;32mFalse\u001b[0m\u001b[1;33m\u001b[0m\u001b[1;33m\u001b[0m\u001b[0m\n\u001b[0;32m    858\u001b[0m             \u001b[1;32melse\u001b[0m\u001b[1;33m:\u001b[0m\u001b[1;33m\u001b[0m\u001b[1;33m\u001b[0m\u001b[0m\n\u001b[1;32m--> 859\u001b[1;33m                 \u001b[0mself\u001b[0m\u001b[1;33m.\u001b[0m\u001b[0m_dispatch\u001b[0m\u001b[1;33m(\u001b[0m\u001b[0mtasks\u001b[0m\u001b[1;33m)\u001b[0m\u001b[1;33m\u001b[0m\u001b[1;33m\u001b[0m\u001b[0m\n\u001b[0m\u001b[0;32m    860\u001b[0m                 \u001b[1;32mreturn\u001b[0m \u001b[1;32mTrue\u001b[0m\u001b[1;33m\u001b[0m\u001b[1;33m\u001b[0m\u001b[0m\n\u001b[0;32m    861\u001b[0m \u001b[1;33m\u001b[0m\u001b[0m\n",
      "\u001b[1;32m~\\anaconda3\\lib\\site-packages\\joblib\\parallel.py\u001b[0m in \u001b[0;36m_dispatch\u001b[1;34m(self, batch)\u001b[0m\n\u001b[0;32m    775\u001b[0m         \u001b[1;32mwith\u001b[0m \u001b[0mself\u001b[0m\u001b[1;33m.\u001b[0m\u001b[0m_lock\u001b[0m\u001b[1;33m:\u001b[0m\u001b[1;33m\u001b[0m\u001b[1;33m\u001b[0m\u001b[0m\n\u001b[0;32m    776\u001b[0m             \u001b[0mjob_idx\u001b[0m \u001b[1;33m=\u001b[0m \u001b[0mlen\u001b[0m\u001b[1;33m(\u001b[0m\u001b[0mself\u001b[0m\u001b[1;33m.\u001b[0m\u001b[0m_jobs\u001b[0m\u001b[1;33m)\u001b[0m\u001b[1;33m\u001b[0m\u001b[1;33m\u001b[0m\u001b[0m\n\u001b[1;32m--> 777\u001b[1;33m             \u001b[0mjob\u001b[0m \u001b[1;33m=\u001b[0m \u001b[0mself\u001b[0m\u001b[1;33m.\u001b[0m\u001b[0m_backend\u001b[0m\u001b[1;33m.\u001b[0m\u001b[0mapply_async\u001b[0m\u001b[1;33m(\u001b[0m\u001b[0mbatch\u001b[0m\u001b[1;33m,\u001b[0m \u001b[0mcallback\u001b[0m\u001b[1;33m=\u001b[0m\u001b[0mcb\u001b[0m\u001b[1;33m)\u001b[0m\u001b[1;33m\u001b[0m\u001b[1;33m\u001b[0m\u001b[0m\n\u001b[0m\u001b[0;32m    778\u001b[0m             \u001b[1;31m# A job can complete so quickly than its callback is\u001b[0m\u001b[1;33m\u001b[0m\u001b[1;33m\u001b[0m\u001b[1;33m\u001b[0m\u001b[0m\n\u001b[0;32m    779\u001b[0m             \u001b[1;31m# called before we get here, causing self._jobs to\u001b[0m\u001b[1;33m\u001b[0m\u001b[1;33m\u001b[0m\u001b[1;33m\u001b[0m\u001b[0m\n",
      "\u001b[1;32m~\\anaconda3\\lib\\site-packages\\joblib\\_parallel_backends.py\u001b[0m in \u001b[0;36mapply_async\u001b[1;34m(self, func, callback)\u001b[0m\n\u001b[0;32m    206\u001b[0m     \u001b[1;32mdef\u001b[0m \u001b[0mapply_async\u001b[0m\u001b[1;33m(\u001b[0m\u001b[0mself\u001b[0m\u001b[1;33m,\u001b[0m \u001b[0mfunc\u001b[0m\u001b[1;33m,\u001b[0m \u001b[0mcallback\u001b[0m\u001b[1;33m=\u001b[0m\u001b[1;32mNone\u001b[0m\u001b[1;33m)\u001b[0m\u001b[1;33m:\u001b[0m\u001b[1;33m\u001b[0m\u001b[1;33m\u001b[0m\u001b[0m\n\u001b[0;32m    207\u001b[0m         \u001b[1;34m\"\"\"Schedule a func to be run\"\"\"\u001b[0m\u001b[1;33m\u001b[0m\u001b[1;33m\u001b[0m\u001b[0m\n\u001b[1;32m--> 208\u001b[1;33m         \u001b[0mresult\u001b[0m \u001b[1;33m=\u001b[0m \u001b[0mImmediateResult\u001b[0m\u001b[1;33m(\u001b[0m\u001b[0mfunc\u001b[0m\u001b[1;33m)\u001b[0m\u001b[1;33m\u001b[0m\u001b[1;33m\u001b[0m\u001b[0m\n\u001b[0m\u001b[0;32m    209\u001b[0m         \u001b[1;32mif\u001b[0m \u001b[0mcallback\u001b[0m\u001b[1;33m:\u001b[0m\u001b[1;33m\u001b[0m\u001b[1;33m\u001b[0m\u001b[0m\n\u001b[0;32m    210\u001b[0m             \u001b[0mcallback\u001b[0m\u001b[1;33m(\u001b[0m\u001b[0mresult\u001b[0m\u001b[1;33m)\u001b[0m\u001b[1;33m\u001b[0m\u001b[1;33m\u001b[0m\u001b[0m\n",
      "\u001b[1;32m~\\anaconda3\\lib\\site-packages\\joblib\\_parallel_backends.py\u001b[0m in \u001b[0;36m__init__\u001b[1;34m(self, batch)\u001b[0m\n\u001b[0;32m    570\u001b[0m         \u001b[1;31m# Don't delay the application, to avoid keeping the input\u001b[0m\u001b[1;33m\u001b[0m\u001b[1;33m\u001b[0m\u001b[1;33m\u001b[0m\u001b[0m\n\u001b[0;32m    571\u001b[0m         \u001b[1;31m# arguments in memory\u001b[0m\u001b[1;33m\u001b[0m\u001b[1;33m\u001b[0m\u001b[1;33m\u001b[0m\u001b[0m\n\u001b[1;32m--> 572\u001b[1;33m         \u001b[0mself\u001b[0m\u001b[1;33m.\u001b[0m\u001b[0mresults\u001b[0m \u001b[1;33m=\u001b[0m \u001b[0mbatch\u001b[0m\u001b[1;33m(\u001b[0m\u001b[1;33m)\u001b[0m\u001b[1;33m\u001b[0m\u001b[1;33m\u001b[0m\u001b[0m\n\u001b[0m\u001b[0;32m    573\u001b[0m \u001b[1;33m\u001b[0m\u001b[0m\n\u001b[0;32m    574\u001b[0m     \u001b[1;32mdef\u001b[0m \u001b[0mget\u001b[0m\u001b[1;33m(\u001b[0m\u001b[0mself\u001b[0m\u001b[1;33m)\u001b[0m\u001b[1;33m:\u001b[0m\u001b[1;33m\u001b[0m\u001b[1;33m\u001b[0m\u001b[0m\n",
      "\u001b[1;32m~\\anaconda3\\lib\\site-packages\\joblib\\parallel.py\u001b[0m in \u001b[0;36m__call__\u001b[1;34m(self)\u001b[0m\n\u001b[0;32m    260\u001b[0m         \u001b[1;31m# change the default number of processes to -1\u001b[0m\u001b[1;33m\u001b[0m\u001b[1;33m\u001b[0m\u001b[1;33m\u001b[0m\u001b[0m\n\u001b[0;32m    261\u001b[0m         \u001b[1;32mwith\u001b[0m \u001b[0mparallel_backend\u001b[0m\u001b[1;33m(\u001b[0m\u001b[0mself\u001b[0m\u001b[1;33m.\u001b[0m\u001b[0m_backend\u001b[0m\u001b[1;33m,\u001b[0m \u001b[0mn_jobs\u001b[0m\u001b[1;33m=\u001b[0m\u001b[0mself\u001b[0m\u001b[1;33m.\u001b[0m\u001b[0m_n_jobs\u001b[0m\u001b[1;33m)\u001b[0m\u001b[1;33m:\u001b[0m\u001b[1;33m\u001b[0m\u001b[1;33m\u001b[0m\u001b[0m\n\u001b[1;32m--> 262\u001b[1;33m             return [func(*args, **kwargs)\n\u001b[0m\u001b[0;32m    263\u001b[0m                     for func, args, kwargs in self.items]\n\u001b[0;32m    264\u001b[0m \u001b[1;33m\u001b[0m\u001b[0m\n",
      "\u001b[1;32m~\\anaconda3\\lib\\site-packages\\joblib\\parallel.py\u001b[0m in \u001b[0;36m<listcomp>\u001b[1;34m(.0)\u001b[0m\n\u001b[0;32m    260\u001b[0m         \u001b[1;31m# change the default number of processes to -1\u001b[0m\u001b[1;33m\u001b[0m\u001b[1;33m\u001b[0m\u001b[1;33m\u001b[0m\u001b[0m\n\u001b[0;32m    261\u001b[0m         \u001b[1;32mwith\u001b[0m \u001b[0mparallel_backend\u001b[0m\u001b[1;33m(\u001b[0m\u001b[0mself\u001b[0m\u001b[1;33m.\u001b[0m\u001b[0m_backend\u001b[0m\u001b[1;33m,\u001b[0m \u001b[0mn_jobs\u001b[0m\u001b[1;33m=\u001b[0m\u001b[0mself\u001b[0m\u001b[1;33m.\u001b[0m\u001b[0m_n_jobs\u001b[0m\u001b[1;33m)\u001b[0m\u001b[1;33m:\u001b[0m\u001b[1;33m\u001b[0m\u001b[1;33m\u001b[0m\u001b[0m\n\u001b[1;32m--> 262\u001b[1;33m             return [func(*args, **kwargs)\n\u001b[0m\u001b[0;32m    263\u001b[0m                     for func, args, kwargs in self.items]\n\u001b[0;32m    264\u001b[0m \u001b[1;33m\u001b[0m\u001b[0m\n",
      "\u001b[1;32m~\\anaconda3\\lib\\site-packages\\sklearn\\utils\\fixes.py\u001b[0m in \u001b[0;36m__call__\u001b[1;34m(self, *args, **kwargs)\u001b[0m\n\u001b[0;32m    220\u001b[0m     \u001b[1;32mdef\u001b[0m \u001b[0m__call__\u001b[0m\u001b[1;33m(\u001b[0m\u001b[0mself\u001b[0m\u001b[1;33m,\u001b[0m \u001b[1;33m*\u001b[0m\u001b[0margs\u001b[0m\u001b[1;33m,\u001b[0m \u001b[1;33m**\u001b[0m\u001b[0mkwargs\u001b[0m\u001b[1;33m)\u001b[0m\u001b[1;33m:\u001b[0m\u001b[1;33m\u001b[0m\u001b[1;33m\u001b[0m\u001b[0m\n\u001b[0;32m    221\u001b[0m         \u001b[1;32mwith\u001b[0m \u001b[0mconfig_context\u001b[0m\u001b[1;33m(\u001b[0m\u001b[1;33m**\u001b[0m\u001b[0mself\u001b[0m\u001b[1;33m.\u001b[0m\u001b[0mconfig\u001b[0m\u001b[1;33m)\u001b[0m\u001b[1;33m:\u001b[0m\u001b[1;33m\u001b[0m\u001b[1;33m\u001b[0m\u001b[0m\n\u001b[1;32m--> 222\u001b[1;33m             \u001b[1;32mreturn\u001b[0m \u001b[0mself\u001b[0m\u001b[1;33m.\u001b[0m\u001b[0mfunction\u001b[0m\u001b[1;33m(\u001b[0m\u001b[1;33m*\u001b[0m\u001b[0margs\u001b[0m\u001b[1;33m,\u001b[0m \u001b[1;33m**\u001b[0m\u001b[0mkwargs\u001b[0m\u001b[1;33m)\u001b[0m\u001b[1;33m\u001b[0m\u001b[1;33m\u001b[0m\u001b[0m\n\u001b[0m",
      "\u001b[1;32m~\\anaconda3\\lib\\site-packages\\sklearn\\ensemble\\_forest.py\u001b[0m in \u001b[0;36m_parallel_build_trees\u001b[1;34m(tree, forest, X, y, sample_weight, tree_idx, n_trees, verbose, class_weight, n_samples_bootstrap)\u001b[0m\n\u001b[0;32m    167\u001b[0m                                                         indices=indices)\n\u001b[0;32m    168\u001b[0m \u001b[1;33m\u001b[0m\u001b[0m\n\u001b[1;32m--> 169\u001b[1;33m         \u001b[0mtree\u001b[0m\u001b[1;33m.\u001b[0m\u001b[0mfit\u001b[0m\u001b[1;33m(\u001b[0m\u001b[0mX\u001b[0m\u001b[1;33m,\u001b[0m \u001b[0my\u001b[0m\u001b[1;33m,\u001b[0m \u001b[0msample_weight\u001b[0m\u001b[1;33m=\u001b[0m\u001b[0mcurr_sample_weight\u001b[0m\u001b[1;33m,\u001b[0m \u001b[0mcheck_input\u001b[0m\u001b[1;33m=\u001b[0m\u001b[1;32mFalse\u001b[0m\u001b[1;33m)\u001b[0m\u001b[1;33m\u001b[0m\u001b[1;33m\u001b[0m\u001b[0m\n\u001b[0m\u001b[0;32m    170\u001b[0m     \u001b[1;32melse\u001b[0m\u001b[1;33m:\u001b[0m\u001b[1;33m\u001b[0m\u001b[1;33m\u001b[0m\u001b[0m\n\u001b[0;32m    171\u001b[0m         \u001b[0mtree\u001b[0m\u001b[1;33m.\u001b[0m\u001b[0mfit\u001b[0m\u001b[1;33m(\u001b[0m\u001b[0mX\u001b[0m\u001b[1;33m,\u001b[0m \u001b[0my\u001b[0m\u001b[1;33m,\u001b[0m \u001b[0msample_weight\u001b[0m\u001b[1;33m=\u001b[0m\u001b[0msample_weight\u001b[0m\u001b[1;33m,\u001b[0m \u001b[0mcheck_input\u001b[0m\u001b[1;33m=\u001b[0m\u001b[1;32mFalse\u001b[0m\u001b[1;33m)\u001b[0m\u001b[1;33m\u001b[0m\u001b[1;33m\u001b[0m\u001b[0m\n",
      "\u001b[1;32m~\\anaconda3\\lib\\site-packages\\sklearn\\tree\\_classes.py\u001b[0m in \u001b[0;36mfit\u001b[1;34m(self, X, y, sample_weight, check_input, X_idx_sorted)\u001b[0m\n\u001b[0;32m   1245\u001b[0m         \"\"\"\n\u001b[0;32m   1246\u001b[0m \u001b[1;33m\u001b[0m\u001b[0m\n\u001b[1;32m-> 1247\u001b[1;33m         super().fit(\n\u001b[0m\u001b[0;32m   1248\u001b[0m             \u001b[0mX\u001b[0m\u001b[1;33m,\u001b[0m \u001b[0my\u001b[0m\u001b[1;33m,\u001b[0m\u001b[1;33m\u001b[0m\u001b[1;33m\u001b[0m\u001b[0m\n\u001b[0;32m   1249\u001b[0m             \u001b[0msample_weight\u001b[0m\u001b[1;33m=\u001b[0m\u001b[0msample_weight\u001b[0m\u001b[1;33m,\u001b[0m\u001b[1;33m\u001b[0m\u001b[1;33m\u001b[0m\u001b[0m\n",
      "\u001b[1;32m~\\anaconda3\\lib\\site-packages\\sklearn\\tree\\_classes.py\u001b[0m in \u001b[0;36mfit\u001b[1;34m(self, X, y, sample_weight, check_input, X_idx_sorted)\u001b[0m\n\u001b[0;32m    387\u001b[0m                                            min_impurity_split)\n\u001b[0;32m    388\u001b[0m \u001b[1;33m\u001b[0m\u001b[0m\n\u001b[1;32m--> 389\u001b[1;33m         \u001b[0mbuilder\u001b[0m\u001b[1;33m.\u001b[0m\u001b[0mbuild\u001b[0m\u001b[1;33m(\u001b[0m\u001b[0mself\u001b[0m\u001b[1;33m.\u001b[0m\u001b[0mtree_\u001b[0m\u001b[1;33m,\u001b[0m \u001b[0mX\u001b[0m\u001b[1;33m,\u001b[0m \u001b[0my\u001b[0m\u001b[1;33m,\u001b[0m \u001b[0msample_weight\u001b[0m\u001b[1;33m)\u001b[0m\u001b[1;33m\u001b[0m\u001b[1;33m\u001b[0m\u001b[0m\n\u001b[0m\u001b[0;32m    390\u001b[0m \u001b[1;33m\u001b[0m\u001b[0m\n\u001b[0;32m    391\u001b[0m         \u001b[1;32mif\u001b[0m \u001b[0mself\u001b[0m\u001b[1;33m.\u001b[0m\u001b[0mn_outputs_\u001b[0m \u001b[1;33m==\u001b[0m \u001b[1;36m1\u001b[0m \u001b[1;32mand\u001b[0m \u001b[0mis_classifier\u001b[0m\u001b[1;33m(\u001b[0m\u001b[0mself\u001b[0m\u001b[1;33m)\u001b[0m\u001b[1;33m:\u001b[0m\u001b[1;33m\u001b[0m\u001b[1;33m\u001b[0m\u001b[0m\n",
      "\u001b[1;31mKeyboardInterrupt\u001b[0m: "
     ]
    }
   ],
   "source": [
    "from sklearn.ensemble import RandomForestRegressor\n",
    "\n",
    "regr = RandomForestRegressor()\n",
    "regr.fit(X_train, y_train)\n",
    "Y_hat=est.predict(X_test)\n",
    "print(regr.score(X_test, y_test))\n",
    "pd.DataFrame(Y_hat, y_test)"
   ]
  },
  {
   "cell_type": "code",
   "execution_count": 60,
   "metadata": {},
   "outputs": [
    {
     "name": "stdout",
     "output_type": "stream",
     "text": [
      "[14:38:33] WARNING: /private/var/folders/3h/smy7r7qj3wlgbhwx0plqyrph0000gn/T/pip-install-zumkp1mm/xgboost_d7005d2f3d12498689c4604bf2f10de9/build/temp.macosx-11.1-arm64-3.9/xgboost/src/objective/regression_obj.cu:188: reg:linear is now deprecated in favor of reg:squarederror.\n",
      "[14:38:35] WARNING: /private/var/folders/3h/smy7r7qj3wlgbhwx0plqyrph0000gn/T/pip-install-zumkp1mm/xgboost_d7005d2f3d12498689c4604bf2f10de9/build/temp.macosx-11.1-arm64-3.9/xgboost/src/objective/regression_obj.cu:188: reg:linear is now deprecated in favor of reg:squarederror.\n",
      "[14:38:35] WARNING: /private/var/folders/3h/smy7r7qj3wlgbhwx0plqyrph0000gn/T/pip-install-zumkp1mm/xgboost_d7005d2f3d12498689c4604bf2f10de9/build/temp.macosx-11.1-arm64-3.9/xgboost/src/objective/regression_obj.cu:188: reg:linear is now deprecated in favor of reg:squarederror.\n",
      "[14:38:35] WARNING: /private/var/folders/3h/smy7r7qj3wlgbhwx0plqyrph0000gn/T/pip-install-zumkp1mm/xgboost_d7005d2f3d12498689c4604bf2f10de9/build/temp.macosx-11.1-arm64-3.9/xgboost/src/objective/regression_obj.cu:188: reg:linear is now deprecated in favor of reg:squarederror.\n",
      "[14:38:35] WARNING: /private/var/folders/3h/smy7r7qj3wlgbhwx0plqyrph0000gn/T/pip-install-zumkp1mm/xgboost_d7005d2f3d12498689c4604bf2f10de9/build/temp.macosx-11.1-arm64-3.9/xgboost/src/objective/regression_obj.cu:188: reg:linear is now deprecated in favor of reg:squarederror.\n",
      "[14:38:35] WARNING: /private/var/folders/3h/smy7r7qj3wlgbhwx0plqyrph0000gn/T/pip-install-zumkp1mm/xgboost_d7005d2f3d12498689c4604bf2f10de9/build/temp.macosx-11.1-arm64-3.9/xgboost/src/objective/regression_obj.cu:188: reg:linear is now deprecated in favor of reg:squarederror.\n",
      "[14:38:35] WARNING: /private/var/folders/3h/smy7r7qj3wlgbhwx0plqyrph0000gn/T/pip-install-zumkp1mm/xgboost_d7005d2f3d12498689c4604bf2f10de9/build/temp.macosx-11.1-arm64-3.9/xgboost/src/objective/regression_obj.cu:188: reg:linear is now deprecated in favor of reg:squarederror.\n",
      "[14:38:35] WARNING: /private/var/folders/3h/smy7r7qj3wlgbhwx0plqyrph0000gn/T/pip-install-zumkp1mm/xgboost_d7005d2f3d12498689c4604bf2f10de9/build/temp.macosx-11.1-arm64-3.9/xgboost/src/objective/regression_obj.cu:188: reg:linear is now deprecated in favor of reg:squarederror.\n",
      "[14:38:35] WARNING: /private/var/folders/3h/smy7r7qj3wlgbhwx0plqyrph0000gn/T/pip-install-zumkp1mm/xgboost_d7005d2f3d12498689c4604bf2f10de9/build/temp.macosx-11.1-arm64-3.9/xgboost/src/objective/regression_obj.cu:188: reg:linear is now deprecated in favor of reg:squarederror.\n",
      "[14:38:37] WARNING: /private/var/folders/3h/smy7r7qj3wlgbhwx0plqyrph0000gn/T/pip-install-zumkp1mm/xgboost_d7005d2f3d12498689c4604bf2f10de9/build/temp.macosx-11.1-arm64-3.9/xgboost/src/objective/regression_obj.cu:188: reg:linear is now deprecated in favor of reg:squarederror.\n",
      "[14:38:37] WARNING: /private/var/folders/3h/smy7r7qj3wlgbhwx0plqyrph0000gn/T/pip-install-zumkp1mm/xgboost_d7005d2f3d12498689c4604bf2f10de9/build/temp.macosx-11.1-arm64-3.9/xgboost/src/objective/regression_obj.cu:188: reg:linear is now deprecated in favor of reg:squarederror.\n",
      "[14:38:37] WARNING: /private/var/folders/3h/smy7r7qj3wlgbhwx0plqyrph0000gn/T/pip-install-zumkp1mm/xgboost_d7005d2f3d12498689c4604bf2f10de9/build/temp.macosx-11.1-arm64-3.9/xgboost/src/objective/regression_obj.cu:188: reg:linear is now deprecated in favor of reg:squarederror.\n",
      "[14:38:37] WARNING: /private/var/folders/3h/smy7r7qj3wlgbhwx0plqyrph0000gn/T/pip-install-zumkp1mm/xgboost_d7005d2f3d12498689c4604bf2f10de9/build/temp.macosx-11.1-arm64-3.9/xgboost/src/objective/regression_obj.cu:188: reg:linear is now deprecated in favor of reg:squarederror.\n",
      "[14:38:37] WARNING: /private/var/folders/3h/smy7r7qj3wlgbhwx0plqyrph0000gn/T/pip-install-zumkp1mm/xgboost_d7005d2f3d12498689c4604bf2f10de9/build/temp.macosx-11.1-arm64-3.9/xgboost/src/objective/regression_obj.cu:188: reg:linear is now deprecated in favor of reg:squarederror.\n",
      "[14:38:37] WARNING: /private/var/folders/3h/smy7r7qj3wlgbhwx0plqyrph0000gn/T/pip-install-zumkp1mm/xgboost_d7005d2f3d12498689c4604bf2f10de9/build/temp.macosx-11.1-arm64-3.9/xgboost/src/objective/regression_obj.cu:188: reg:linear is now deprecated in favor of reg:squarederror.\n",
      "[14:38:37] WARNING: /private/var/folders/3h/smy7r7qj3wlgbhwx0plqyrph0000gn/T/pip-install-zumkp1mm/xgboost_d7005d2f3d12498689c4604bf2f10de9/build/temp.macosx-11.1-arm64-3.9/xgboost/src/objective/regression_obj.cu:188: reg:linear is now deprecated in favor of reg:squarederror.\n",
      "[14:38:37] WARNING: /private/var/folders/3h/smy7r7qj3wlgbhwx0plqyrph0000gn/T/pip-install-zumkp1mm/xgboost_d7005d2f3d12498689c4604bf2f10de9/build/temp.macosx-11.1-arm64-3.9/xgboost/src/objective/regression_obj.cu:188: reg:linear is now deprecated in favor of reg:squarederror.\n",
      "[14:38:39] WARNING: /private/var/folders/3h/smy7r7qj3wlgbhwx0plqyrph0000gn/T/pip-install-zumkp1mm/xgboost_d7005d2f3d12498689c4604bf2f10de9/build/temp.macosx-11.1-arm64-3.9/xgboost/src/objective/regression_obj.cu:188: reg:linear is now deprecated in favor of reg:squarederror.\n",
      "[14:38:39] WARNING: /private/var/folders/3h/smy7r7qj3wlgbhwx0plqyrph0000gn/T/pip-install-zumkp1mm/xgboost_d7005d2f3d12498689c4604bf2f10de9/build/temp.macosx-11.1-arm64-3.9/xgboost/src/objective/regression_obj.cu:188: reg:linear is now deprecated in favor of reg:squarederror.\n",
      "[14:38:39] WARNING: /private/var/folders/3h/smy7r7qj3wlgbhwx0plqyrph0000gn/T/pip-install-zumkp1mm/xgboost_d7005d2f3d12498689c4604bf2f10de9/build/temp.macosx-11.1-arm64-3.9/xgboost/src/objective/regression_obj.cu:188: reg:linear is now deprecated in favor of reg:squarederror.\n",
      "[14:38:39] WARNING: /private/var/folders/3h/smy7r7qj3wlgbhwx0plqyrph0000gn/T/pip-install-zumkp1mm/xgboost_d7005d2f3d12498689c4604bf2f10de9/build/temp.macosx-11.1-arm64-3.9/xgboost/src/objective/regression_obj.cu:188: reg:linear is now deprecated in favor of reg:squarederror.\n",
      "[14:38:39] WARNING: /private/var/folders/3h/smy7r7qj3wlgbhwx0plqyrph0000gn/T/pip-install-zumkp1mm/xgboost_d7005d2f3d12498689c4604bf2f10de9/build/temp.macosx-11.1-arm64-3.9/xgboost/src/objective/regression_obj.cu:188: reg:linear is now deprecated in favor of reg:squarederror.\n",
      "[14:38:39] WARNING: /private/var/folders/3h/smy7r7qj3wlgbhwx0plqyrph0000gn/T/pip-install-zumkp1mm/xgboost_d7005d2f3d12498689c4604bf2f10de9/build/temp.macosx-11.1-arm64-3.9/xgboost/src/objective/regression_obj.cu:188: reg:linear is now deprecated in favor of reg:squarederror.\n",
      "[14:38:39] WARNING: /private/var/folders/3h/smy7r7qj3wlgbhwx0plqyrph0000gn/T/pip-install-zumkp1mm/xgboost_d7005d2f3d12498689c4604bf2f10de9/build/temp.macosx-11.1-arm64-3.9/xgboost/src/objective/regression_obj.cu:188: reg:linear is now deprecated in favor of reg:squarederror.\n",
      "[14:38:40] WARNING: /private/var/folders/3h/smy7r7qj3wlgbhwx0plqyrph0000gn/T/pip-install-zumkp1mm/xgboost_d7005d2f3d12498689c4604bf2f10de9/build/temp.macosx-11.1-arm64-3.9/xgboost/src/objective/regression_obj.cu:188: reg:linear is now deprecated in favor of reg:squarederror.\n",
      "[14:38:41] WARNING: /private/var/folders/3h/smy7r7qj3wlgbhwx0plqyrph0000gn/T/pip-install-zumkp1mm/xgboost_d7005d2f3d12498689c4604bf2f10de9/build/temp.macosx-11.1-arm64-3.9/xgboost/src/objective/regression_obj.cu:188: reg:linear is now deprecated in favor of reg:squarederror.\n",
      "[14:38:41] WARNING: /private/var/folders/3h/smy7r7qj3wlgbhwx0plqyrph0000gn/T/pip-install-zumkp1mm/xgboost_d7005d2f3d12498689c4604bf2f10de9/build/temp.macosx-11.1-arm64-3.9/xgboost/src/objective/regression_obj.cu:188: reg:linear is now deprecated in favor of reg:squarederror.\n",
      "[14:38:41] WARNING: /private/var/folders/3h/smy7r7qj3wlgbhwx0plqyrph0000gn/T/pip-install-zumkp1mm/xgboost_d7005d2f3d12498689c4604bf2f10de9/build/temp.macosx-11.1-arm64-3.9/xgboost/src/objective/regression_obj.cu:188: reg:linear is now deprecated in favor of reg:squarederror.\n",
      "[14:38:41] WARNING: /private/var/folders/3h/smy7r7qj3wlgbhwx0plqyrph0000gn/T/pip-install-zumkp1mm/xgboost_d7005d2f3d12498689c4604bf2f10de9/build/temp.macosx-11.1-arm64-3.9/xgboost/src/objective/regression_obj.cu:188: reg:linear is now deprecated in favor of reg:squarederror.\n",
      "[14:38:41] WARNING: /private/var/folders/3h/smy7r7qj3wlgbhwx0plqyrph0000gn/T/pip-install-zumkp1mm/xgboost_d7005d2f3d12498689c4604bf2f10de9/build/temp.macosx-11.1-arm64-3.9/xgboost/src/objective/regression_obj.cu:188: reg:linear is now deprecated in favor of reg:squarederror.\n",
      "[14:38:41] WARNING: /private/var/folders/3h/smy7r7qj3wlgbhwx0plqyrph0000gn/T/pip-install-zumkp1mm/xgboost_d7005d2f3d12498689c4604bf2f10de9/build/temp.macosx-11.1-arm64-3.9/xgboost/src/objective/regression_obj.cu:188: reg:linear is now deprecated in favor of reg:squarederror.\n",
      "Mean MAE: 54566.852 (3578.956)\n"
     ]
    }
   ],
   "source": [
    "import xgboost as xgb\n",
    "from sklearn.model_selection import KFold\n",
    "from sklearn.model_selection import RepeatedKFold\n",
    "from sklearn.model_selection import cross_val_score\n",
    "from sklearn.metrics import auc, accuracy_score, confusion_matrix, mean_squared_error\n",
    "\n",
    "xg_reg = xgb.XGBRegressor(objective ='reg:linear', colsample_bytree = 0.3, learning_rate = 0.1,\n",
    "                max_depth = 10, alpha = 10, n_estimators = 10)\n",
    "xg_reg.fit(X_train,y_train)\n",
    "cv = RepeatedKFold(n_splits=10, n_repeats=3, random_state=1)\n",
    "results = cross_val_score(xg_reg, X_train, y_train, scoring='neg_mean_absolute_error', cv=cv, n_jobs=-1)\n",
    "scores = np.absolute(results)\n",
    "print('Mean MAE: %.3f (%.3f)' % (scores.mean(), scores.std()) )\n",
    "# y_test_pred = xg_reg.predict(X_test)\n",
    "# mse = mean_squared_error(y_test_pred, y_test)\n",
    "# print(results, mse)\n"
   ]
  },
  {
   "cell_type": "code",
   "execution_count": null,
   "metadata": {},
   "outputs": [],
   "source": []
  },
  {
   "cell_type": "markdown",
   "metadata": {},
   "source": [
    "# Summary and Conclusions(EDA)"
   ]
  },
  {
   "cell_type": "markdown",
   "metadata": {},
   "source": []
  }
 ],
 "metadata": {
  "interpreter": {
   "hash": "a465ead146c7be66e42e5a8abc5d9f0082f30bd5da6dd2b967cc9e57a14159a0"
  },
  "kernelspec": {
   "display_name": "Python 3.9.7 64-bit ('stack-overflow-developer-survey-analysis': conda)",
   "language": "python",
   "name": "python3"
  },
  "language_info": {
   "codemirror_mode": {
    "name": "ipython",
    "version": 3
   },
   "file_extension": ".py",
   "mimetype": "text/x-python",
   "name": "python",
   "nbconvert_exporter": "python",
   "pygments_lexer": "ipython3",
   "version": "3.9.7"
  },
  "orig_nbformat": 4
 },
 "nbformat": 4,
 "nbformat_minor": 2
}
