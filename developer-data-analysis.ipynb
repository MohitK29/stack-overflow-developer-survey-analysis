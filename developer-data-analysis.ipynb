{
 "cells": [
  {
   "cell_type": "code",
   "execution_count": 2,
   "metadata": {},
   "outputs": [],
   "source": [
    "# importing packages\n",
    "import numpy as np\n",
    "import pandas as pd\n",
    "from sklearn.preprocessing import LabelEncoder,OneHotEncoder,OrdinalEncoder\n",
    "from collections import defaultdict\n",
    "labelEncoder_dict = defaultdict(LabelEncoder)\n",
    "\n",
    "# from sklearn.preprocessing import StandardScaler"
   ]
  },
  {
   "cell_type": "code",
   "execution_count": 3,
   "metadata": {},
   "outputs": [],
   "source": [
    "# Loading file data\n",
    "df = pd.read_csv(\"survey_results_public.csv\")\n",
    "X = pd.DataFrame()"
   ]
  },
  {
   "cell_type": "code",
   "execution_count": 4,
   "metadata": {},
   "outputs": [],
   "source": [
    "X['OpenSource'] = df['OpenSource'].eq('Yes').mul(1)\n",
    "X['Hobby'] = df['Hobby'].eq('Yes').mul(1)\n",
    "X['Student'] = df['Student'].str.contains('Yes').mul(1)\n"
   ]
  },
  {
   "cell_type": "code",
   "execution_count": 5,
   "metadata": {},
   "outputs": [],
   "source": [
    "def CustomLabelEncoder(data):\n",
    "    le = LabelEncoder()\n",
    "    labels = le.fit_transform(data)\n",
    "    mappings = {index: label for index, label in enumerate(fle.classes_)}\n",
    "    return le,labels\n"
   ]
  },
  {
   "cell_type": "markdown",
   "metadata": {},
   "source": [
    "### Label Encoding"
   ]
  },
  {
   "cell_type": "code",
   "execution_count": 6,
   "metadata": {},
   "outputs": [],
   "source": [
    "\n",
    "# Categorical Encoding Columns\n",
    "CategoricalColumns = ['Country','Employment','FormalEducation','UndergradMajor','CompanySize','YearsCoding']\n",
    "for col in CategoricalColumns:\n",
    "    X[col] = labelEncoder_dict[col].fit_transform(df[col])"
   ]
  },
  {
   "cell_type": "code",
   "execution_count": 7,
   "metadata": {},
   "outputs": [],
   "source": [
    "# AssessJob and Benefits Added\n",
    "df.fillna(df.iloc[:,17:38].mean(),inplace=True)\n",
    "for col in df.iloc[:,17:38].columns:\n",
    "    X[col] = df[col]\n",
    "\n"
   ]
  },
  {
   "cell_type": "code",
   "execution_count": 9,
   "metadata": {},
   "outputs": [],
   "source": [
    "# JobSatisfaction Mapping\n",
    "SatisfactionMapping = {\n",
    "    'Extremely satisfied':6,\n",
    "    'Moderately dissatisfied':5,\n",
    "    'Moderately satisfied':4, \n",
    "    'Neither satisfied nor dissatisfied':3,\n",
    "    'Slightly satisfied':2,\n",
    "    'Slightly dissatisfied':1,\n",
    "    'Extremely dissatisfied':0\n",
    "}\n",
    "\n",
    "df['JobSatisfaction'].replace(SatisfactionMapping,inplace=True)\n",
    "df.fillna({'JobSatisfaction':3},inplace=True)\n",
    "X['JobSatisfaction'] = df['JobSatisfaction']\n",
    "\n",
    "# CareerSatisfaction\n",
    "df['CareerSatisfaction'].replace(SatisfactionMapping,inplace=True)\n",
    "df.fillna({'CareerSatisfaction':3},inplace=True)\n",
    "X['CareerSatisfaction'] = df['CareerSatisfaction']\n",
    "\n"
   ]
  },
  {
   "cell_type": "code",
   "execution_count": 10,
   "metadata": {},
   "outputs": [],
   "source": [
    "# HackathonReasons\n",
    "X['HackathonParticipated'] = df['HackathonReasons'].notna()*1\n"
   ]
  },
  {
   "cell_type": "code",
   "execution_count": 11,
   "metadata": {},
   "outputs": [],
   "source": [
    "# ConvertedSalary\n",
    "X['ConvertedSalary'] = df['ConvertedSalary']\n"
   ]
  },
  {
   "cell_type": "code",
   "execution_count": 12,
   "metadata": {},
   "outputs": [],
   "source": [
    "def CustomOneHotEncoding(data,X):\n",
    "    temp = data.str.split(';', expand=True)\n",
    "    new_columns = pd.unique(temp.values.ravel())\n",
    "    for col in new_columns:\n",
    "        X[col] = data.str.contains(col, regex=False).fillna(False)*1"
   ]
  },
  {
   "cell_type": "code",
   "execution_count": 13,
   "metadata": {},
   "outputs": [],
   "source": [
    "# LanguageWorkedWith\n",
    "CustomOneHotEncoding(df['LanguageWorkedWith'],X)\n",
    "\n",
    "\n",
    "CustomOneHotEncoding(df['DevType'],X)\n",
    "\n",
    "CustomOneHotEncoding(df['DatabaseWorkedWith'],X)\n",
    "\n",
    "CustomOneHotEncoding(df['PlatformWorkedWith'],X)\n",
    "\n",
    "CustomOneHotEncoding(df['FrameworkWorkedWith'],X)\n",
    "\n",
    "CustomOneHotEncoding(df['IDE'],X)\n",
    "\n",
    "# Methodology\n",
    "CustomOneHotEncoding(df['Methodology'],X)\n",
    "\n",
    "# RaceEthnicity\n",
    "CustomOneHotEncoding(df['RaceEthnicity'],X)\n",
    "\n",
    "CustomOneHotEncoding(df['Methodology'],X)\n"
   ]
  },
  {
   "cell_type": "code",
   "execution_count": 15,
   "metadata": {},
   "outputs": [],
   "source": [
    "# CheckInCode\n",
    "CheckInCodeMapping = {\n",
    "    'Multiple times per day':730, \n",
    "    'A few times per week':156, \n",
    "    'Weekly or a few times per month':52, \n",
    "    'Never':0,\n",
    "    'Less than once per month':12, \n",
    "    'Once a day':365\n",
    "}\n",
    "\n",
    "X['CheckInCode'] = df['CheckInCode'].replace(CheckInCodeMapping)\n",
    "X['CheckInCode'].fillna(X['CheckInCode'].mean(),inplace=True)"
   ]
  },
  {
   "cell_type": "code",
   "execution_count": 19,
   "metadata": {},
   "outputs": [
    {
     "data": {
      "text/plain": [
       "(98855, 186)"
      ]
     },
     "execution_count": 19,
     "metadata": {},
     "output_type": "execute_result"
    }
   ],
   "source": [
    "X['Age'] = df['Age']\n",
    "X['MilitaryUS'] = df['MilitaryUS'].str.eq('Yes')*1\n",
    "X['Dependents'] = df['Dependents'].str.eq('Yes')*1\n",
    "X['Gender'] = df['Gender'].str.eq('Female')*1"
   ]
  },
  {
   "cell_type": "code",
   "execution_count": 25,
   "metadata": {},
   "outputs": [
    {
     "data": {
      "text/plain": [
       "array(['3 - 4 times per week', 'Daily or almost every day', nan,\n",
       "       \"I don't typically exercise\", '1 - 2 times per week'], dtype=object)"
      ]
     },
     "execution_count": 25,
     "metadata": {},
     "output_type": "execute_result"
    }
   ],
   "source": [
    "# Onehotencoding\n",
    "# df['EducationParents'].unique()\n",
    "# X['Gender'] = df['Gender'].str.eq('Female')*1\n",
    "# X['Gender']\n",
    "df['Exercise'].unique()"
   ]
  },
  {
   "cell_type": "code",
   "execution_count": null,
   "metadata": {},
   "outputs": [],
   "source": [
    "# # df['EducationTypes'].unique()\n",
    "\n",
    "# x = .str.split(';').fillna('NA').tolist()\n",
    "# devTypeSet = set()\n",
    "# for devs in x:\n",
    "#     try:\n",
    "#         devTypeSet.update(devs)\n",
    "#     except:\n",
    "#         print(devs)\n",
    "\n",
    "# list(devTypeSet)"
   ]
  },
  {
   "cell_type": "code",
   "execution_count": null,
   "metadata": {},
   "outputs": [],
   "source": [
    "# # df['EducationTypes'].unique()\n",
    "\n",
    "# x = df['SelfTaughtTypes'].str.split(';').fillna('NA').tolist()\n",
    "# devTypeSet = set()\n",
    "# for devs in x:\n",
    "#     try:\n",
    "#         devTypeSet.update(devs)\n",
    "#     except:\n",
    "#         print(devs)\n",
    "\n",
    "# list(devTypeSet)"
   ]
  }
 ],
 "metadata": {
  "interpreter": {
   "hash": "a465ead146c7be66e42e5a8abc5d9f0082f30bd5da6dd2b967cc9e57a14159a0"
  },
  "kernelspec": {
   "display_name": "Python 3.9.7 64-bit ('stack-overflow-developer-survey-analysis': conda)",
   "language": "python",
   "name": "python3"
  },
  "language_info": {
   "codemirror_mode": {
    "name": "ipython",
    "version": 3
   },
   "file_extension": ".py",
   "mimetype": "text/x-python",
   "name": "python",
   "nbconvert_exporter": "python",
   "pygments_lexer": "ipython3",
   "version": "3.9.7"
  },
  "orig_nbformat": 4
 },
 "nbformat": 4,
 "nbformat_minor": 2
}
